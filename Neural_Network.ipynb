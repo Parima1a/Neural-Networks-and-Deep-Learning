{
  "nbformat": 4,
  "nbformat_minor": 0,
  "metadata": {
    "colab": {
      "provenance": []
    },
    "kernelspec": {
      "name": "python3",
      "display_name": "Python 3"
    },
    "language_info": {
      "name": "python"
    }
  },
  "cells": [
    {
      "cell_type": "code",
      "execution_count": 1,
      "metadata": {
        "id": "SCmdtvL2L_bs"
      },
      "outputs": [],
      "source": [
        "from google.colab import drive"
      ]
    },
    {
      "cell_type": "code",
      "source": [
        "drive.mount('/content/gdrive')"
      ],
      "metadata": {
        "colab": {
          "base_uri": "https://localhost:8080/"
        },
        "id": "OcgcLCKPMEZR",
        "outputId": "6eeaa64b-7a2e-4bb1-97d0-70925d5fc67f"
      },
      "execution_count": 3,
      "outputs": [
        {
          "output_type": "stream",
          "name": "stdout",
          "text": [
            "Mounted at /content/gdrive\n"
          ]
        }
      ]
    },
    {
      "cell_type": "code",
      "source": [
        "import numpy as np\n",
        "import pandas as pd\n",
        "import matplotlib.pyplot as plt\n",
        "import seaborn as sns\n",
        "%matplotlib inline\n",
        "import warnings\n",
        "warnings.filterwarnings('ignore')\n",
        "from sklearn.model_selection import train_test_split\n",
        "from sklearn.preprocessing import StandardScaler\n",
        "import tensorflow as tf\n",
        "import keras\n",
        "from tensorflow.keras import losses\n",
        "from tensorflow.keras import optimizers\n",
        "from tensorflow.keras import Sequential\n",
        "from tensorflow.keras.layers import Dense\n",
        "from tensorflow.keras.layers import BatchNormalization\n",
        "from tensorflow.keras.layers import Dropout\n",
        "from tensorflow.keras.utils import to_categorical\n",
        "from tensorflow.keras.callbacks import ModelCheckpoint, ReduceLROnPlateau\n",
        "print(tf.__version__)"
      ],
      "metadata": {
        "colab": {
          "base_uri": "https://localhost:8080/"
        },
        "id": "0W-vvZb_NOGE",
        "outputId": "2a0f0354-c152-48ba-8e77-2cbeaf605861"
      },
      "execution_count": 2,
      "outputs": [
        {
          "output_type": "stream",
          "name": "stdout",
          "text": [
            "2.12.0\n"
          ]
        }
      ]
    },
    {
      "cell_type": "markdown",
      "source": [
        "## PART A"
      ],
      "metadata": {
        "id": "Ss8Ws-7tNg6s"
      }
    },
    {
      "cell_type": "code",
      "source": [
        "# Q1 A"
      ],
      "metadata": {
        "id": "VUrki_JNNOgj"
      },
      "execution_count": 56,
      "outputs": []
    },
    {
      "cell_type": "code",
      "source": [
        "signals = pd.read_csv('/content/gdrive/MyDrive/AIML/Part-+1%2C2%263+-+Signal.csv')\n",
        "signals.head()"
      ],
      "metadata": {
        "colab": {
          "base_uri": "https://localhost:8080/",
          "height": 206
        },
        "id": "vBCQ2XdZNO3P",
        "outputId": "c2b5552e-4821-444f-a318-cc444148f920"
      },
      "execution_count": 57,
      "outputs": [
        {
          "output_type": "execute_result",
          "data": {
            "text/plain": [
              "   Parameter 1  Parameter 2  Parameter 3  Parameter 4  Parameter 5  \\\n",
              "0          7.4         0.70         0.00          1.9        0.076   \n",
              "1          7.8         0.88         0.00          2.6        0.098   \n",
              "2          7.8         0.76         0.04          2.3        0.092   \n",
              "3         11.2         0.28         0.56          1.9        0.075   \n",
              "4          7.4         0.70         0.00          1.9        0.076   \n",
              "\n",
              "   Parameter 6  Parameter 7  Parameter 8  Parameter 9  Parameter 10  \\\n",
              "0         11.0         34.0       0.9978         3.51          0.56   \n",
              "1         25.0         67.0       0.9968         3.20          0.68   \n",
              "2         15.0         54.0       0.9970         3.26          0.65   \n",
              "3         17.0         60.0       0.9980         3.16          0.58   \n",
              "4         11.0         34.0       0.9978         3.51          0.56   \n",
              "\n",
              "   Parameter 11  Signal_Strength  \n",
              "0           9.4                5  \n",
              "1           9.8                5  \n",
              "2           9.8                5  \n",
              "3           9.8                6  \n",
              "4           9.4                5  "
            ],
            "text/html": [
              "\n",
              "  <div id=\"df-ed56a749-7356-4451-aed3-55b65492e111\">\n",
              "    <div class=\"colab-df-container\">\n",
              "      <div>\n",
              "<style scoped>\n",
              "    .dataframe tbody tr th:only-of-type {\n",
              "        vertical-align: middle;\n",
              "    }\n",
              "\n",
              "    .dataframe tbody tr th {\n",
              "        vertical-align: top;\n",
              "    }\n",
              "\n",
              "    .dataframe thead th {\n",
              "        text-align: right;\n",
              "    }\n",
              "</style>\n",
              "<table border=\"1\" class=\"dataframe\">\n",
              "  <thead>\n",
              "    <tr style=\"text-align: right;\">\n",
              "      <th></th>\n",
              "      <th>Parameter 1</th>\n",
              "      <th>Parameter 2</th>\n",
              "      <th>Parameter 3</th>\n",
              "      <th>Parameter 4</th>\n",
              "      <th>Parameter 5</th>\n",
              "      <th>Parameter 6</th>\n",
              "      <th>Parameter 7</th>\n",
              "      <th>Parameter 8</th>\n",
              "      <th>Parameter 9</th>\n",
              "      <th>Parameter 10</th>\n",
              "      <th>Parameter 11</th>\n",
              "      <th>Signal_Strength</th>\n",
              "    </tr>\n",
              "  </thead>\n",
              "  <tbody>\n",
              "    <tr>\n",
              "      <th>0</th>\n",
              "      <td>7.4</td>\n",
              "      <td>0.70</td>\n",
              "      <td>0.00</td>\n",
              "      <td>1.9</td>\n",
              "      <td>0.076</td>\n",
              "      <td>11.0</td>\n",
              "      <td>34.0</td>\n",
              "      <td>0.9978</td>\n",
              "      <td>3.51</td>\n",
              "      <td>0.56</td>\n",
              "      <td>9.4</td>\n",
              "      <td>5</td>\n",
              "    </tr>\n",
              "    <tr>\n",
              "      <th>1</th>\n",
              "      <td>7.8</td>\n",
              "      <td>0.88</td>\n",
              "      <td>0.00</td>\n",
              "      <td>2.6</td>\n",
              "      <td>0.098</td>\n",
              "      <td>25.0</td>\n",
              "      <td>67.0</td>\n",
              "      <td>0.9968</td>\n",
              "      <td>3.20</td>\n",
              "      <td>0.68</td>\n",
              "      <td>9.8</td>\n",
              "      <td>5</td>\n",
              "    </tr>\n",
              "    <tr>\n",
              "      <th>2</th>\n",
              "      <td>7.8</td>\n",
              "      <td>0.76</td>\n",
              "      <td>0.04</td>\n",
              "      <td>2.3</td>\n",
              "      <td>0.092</td>\n",
              "      <td>15.0</td>\n",
              "      <td>54.0</td>\n",
              "      <td>0.9970</td>\n",
              "      <td>3.26</td>\n",
              "      <td>0.65</td>\n",
              "      <td>9.8</td>\n",
              "      <td>5</td>\n",
              "    </tr>\n",
              "    <tr>\n",
              "      <th>3</th>\n",
              "      <td>11.2</td>\n",
              "      <td>0.28</td>\n",
              "      <td>0.56</td>\n",
              "      <td>1.9</td>\n",
              "      <td>0.075</td>\n",
              "      <td>17.0</td>\n",
              "      <td>60.0</td>\n",
              "      <td>0.9980</td>\n",
              "      <td>3.16</td>\n",
              "      <td>0.58</td>\n",
              "      <td>9.8</td>\n",
              "      <td>6</td>\n",
              "    </tr>\n",
              "    <tr>\n",
              "      <th>4</th>\n",
              "      <td>7.4</td>\n",
              "      <td>0.70</td>\n",
              "      <td>0.00</td>\n",
              "      <td>1.9</td>\n",
              "      <td>0.076</td>\n",
              "      <td>11.0</td>\n",
              "      <td>34.0</td>\n",
              "      <td>0.9978</td>\n",
              "      <td>3.51</td>\n",
              "      <td>0.56</td>\n",
              "      <td>9.4</td>\n",
              "      <td>5</td>\n",
              "    </tr>\n",
              "  </tbody>\n",
              "</table>\n",
              "</div>\n",
              "      <button class=\"colab-df-convert\" onclick=\"convertToInteractive('df-ed56a749-7356-4451-aed3-55b65492e111')\"\n",
              "              title=\"Convert this dataframe to an interactive table.\"\n",
              "              style=\"display:none;\">\n",
              "        \n",
              "  <svg xmlns=\"http://www.w3.org/2000/svg\" height=\"24px\"viewBox=\"0 0 24 24\"\n",
              "       width=\"24px\">\n",
              "    <path d=\"M0 0h24v24H0V0z\" fill=\"none\"/>\n",
              "    <path d=\"M18.56 5.44l.94 2.06.94-2.06 2.06-.94-2.06-.94-.94-2.06-.94 2.06-2.06.94zm-11 1L8.5 8.5l.94-2.06 2.06-.94-2.06-.94L8.5 2.5l-.94 2.06-2.06.94zm10 10l.94 2.06.94-2.06 2.06-.94-2.06-.94-.94-2.06-.94 2.06-2.06.94z\"/><path d=\"M17.41 7.96l-1.37-1.37c-.4-.4-.92-.59-1.43-.59-.52 0-1.04.2-1.43.59L10.3 9.45l-7.72 7.72c-.78.78-.78 2.05 0 2.83L4 21.41c.39.39.9.59 1.41.59.51 0 1.02-.2 1.41-.59l7.78-7.78 2.81-2.81c.8-.78.8-2.07 0-2.86zM5.41 20L4 18.59l7.72-7.72 1.47 1.35L5.41 20z\"/>\n",
              "  </svg>\n",
              "      </button>\n",
              "      \n",
              "  <style>\n",
              "    .colab-df-container {\n",
              "      display:flex;\n",
              "      flex-wrap:wrap;\n",
              "      gap: 12px;\n",
              "    }\n",
              "\n",
              "    .colab-df-convert {\n",
              "      background-color: #E8F0FE;\n",
              "      border: none;\n",
              "      border-radius: 50%;\n",
              "      cursor: pointer;\n",
              "      display: none;\n",
              "      fill: #1967D2;\n",
              "      height: 32px;\n",
              "      padding: 0 0 0 0;\n",
              "      width: 32px;\n",
              "    }\n",
              "\n",
              "    .colab-df-convert:hover {\n",
              "      background-color: #E2EBFA;\n",
              "      box-shadow: 0px 1px 2px rgba(60, 64, 67, 0.3), 0px 1px 3px 1px rgba(60, 64, 67, 0.15);\n",
              "      fill: #174EA6;\n",
              "    }\n",
              "\n",
              "    [theme=dark] .colab-df-convert {\n",
              "      background-color: #3B4455;\n",
              "      fill: #D2E3FC;\n",
              "    }\n",
              "\n",
              "    [theme=dark] .colab-df-convert:hover {\n",
              "      background-color: #434B5C;\n",
              "      box-shadow: 0px 1px 3px 1px rgba(0, 0, 0, 0.15);\n",
              "      filter: drop-shadow(0px 1px 2px rgba(0, 0, 0, 0.3));\n",
              "      fill: #FFFFFF;\n",
              "    }\n",
              "  </style>\n",
              "\n",
              "      <script>\n",
              "        const buttonEl =\n",
              "          document.querySelector('#df-ed56a749-7356-4451-aed3-55b65492e111 button.colab-df-convert');\n",
              "        buttonEl.style.display =\n",
              "          google.colab.kernel.accessAllowed ? 'block' : 'none';\n",
              "\n",
              "        async function convertToInteractive(key) {\n",
              "          const element = document.querySelector('#df-ed56a749-7356-4451-aed3-55b65492e111');\n",
              "          const dataTable =\n",
              "            await google.colab.kernel.invokeFunction('convertToInteractive',\n",
              "                                                     [key], {});\n",
              "          if (!dataTable) return;\n",
              "\n",
              "          const docLinkHtml = 'Like what you see? Visit the ' +\n",
              "            '<a target=\"_blank\" href=https://colab.research.google.com/notebooks/data_table.ipynb>data table notebook</a>'\n",
              "            + ' to learn more about interactive tables.';\n",
              "          element.innerHTML = '';\n",
              "          dataTable['output_type'] = 'display_data';\n",
              "          await google.colab.output.renderOutput(dataTable, element);\n",
              "          const docLink = document.createElement('div');\n",
              "          docLink.innerHTML = docLinkHtml;\n",
              "          element.appendChild(docLink);\n",
              "        }\n",
              "      </script>\n",
              "    </div>\n",
              "  </div>\n",
              "  "
            ]
          },
          "metadata": {},
          "execution_count": 57
        }
      ]
    },
    {
      "cell_type": "code",
      "source": [
        "signals.info()"
      ],
      "metadata": {
        "colab": {
          "base_uri": "https://localhost:8080/"
        },
        "id": "2eYXj2lHNO5i",
        "outputId": "73816834-cab1-4ac0-cefd-3c9a38725ab1"
      },
      "execution_count": 58,
      "outputs": [
        {
          "output_type": "stream",
          "name": "stdout",
          "text": [
            "<class 'pandas.core.frame.DataFrame'>\n",
            "RangeIndex: 1599 entries, 0 to 1598\n",
            "Data columns (total 12 columns):\n",
            " #   Column           Non-Null Count  Dtype  \n",
            "---  ------           --------------  -----  \n",
            " 0   Parameter 1      1599 non-null   float64\n",
            " 1   Parameter 2      1599 non-null   float64\n",
            " 2   Parameter 3      1599 non-null   float64\n",
            " 3   Parameter 4      1599 non-null   float64\n",
            " 4   Parameter 5      1599 non-null   float64\n",
            " 5   Parameter 6      1599 non-null   float64\n",
            " 6   Parameter 7      1599 non-null   float64\n",
            " 7   Parameter 8      1599 non-null   float64\n",
            " 8   Parameter 9      1599 non-null   float64\n",
            " 9   Parameter 10     1599 non-null   float64\n",
            " 10  Parameter 11     1599 non-null   float64\n",
            " 11  Signal_Strength  1599 non-null   int64  \n",
            "dtypes: float64(11), int64(1)\n",
            "memory usage: 150.0 KB\n"
          ]
        }
      ]
    },
    {
      "cell_type": "code",
      "source": [
        "# Q1 B "
      ],
      "metadata": {
        "id": "yxOVxndYNO-Y"
      },
      "execution_count": 59,
      "outputs": []
    },
    {
      "cell_type": "code",
      "source": [
        "signals.isnull().sum()"
      ],
      "metadata": {
        "colab": {
          "base_uri": "https://localhost:8080/"
        },
        "id": "JaQQNTdXNPJQ",
        "outputId": "3b046255-9259-48d7-df74-f66f6563396c"
      },
      "execution_count": 60,
      "outputs": [
        {
          "output_type": "execute_result",
          "data": {
            "text/plain": [
              "Parameter 1        0\n",
              "Parameter 2        0\n",
              "Parameter 3        0\n",
              "Parameter 4        0\n",
              "Parameter 5        0\n",
              "Parameter 6        0\n",
              "Parameter 7        0\n",
              "Parameter 8        0\n",
              "Parameter 9        0\n",
              "Parameter 10       0\n",
              "Parameter 11       0\n",
              "Signal_Strength    0\n",
              "dtype: int64"
            ]
          },
          "metadata": {},
          "execution_count": 60
        }
      ]
    },
    {
      "cell_type": "code",
      "source": [
        "\n",
        "percent_missing = pd.DataFrame(signals.isna().mean().round(4)*100, columns=['Percentage of null values'])"
      ],
      "metadata": {
        "id": "eE0mJukmNPLr"
      },
      "execution_count": 61,
      "outputs": []
    },
    {
      "cell_type": "code",
      "source": [
        "percent_missing"
      ],
      "metadata": {
        "colab": {
          "base_uri": "https://localhost:8080/",
          "height": 426
        },
        "id": "zhdaA1NwNPP9",
        "outputId": "351826d9-7bb0-4f0a-eb9b-71b151a9f6e5"
      },
      "execution_count": 62,
      "outputs": [
        {
          "output_type": "execute_result",
          "data": {
            "text/plain": [
              "                 Percentage of null values\n",
              "Parameter 1                            0.0\n",
              "Parameter 2                            0.0\n",
              "Parameter 3                            0.0\n",
              "Parameter 4                            0.0\n",
              "Parameter 5                            0.0\n",
              "Parameter 6                            0.0\n",
              "Parameter 7                            0.0\n",
              "Parameter 8                            0.0\n",
              "Parameter 9                            0.0\n",
              "Parameter 10                           0.0\n",
              "Parameter 11                           0.0\n",
              "Signal_Strength                        0.0"
            ],
            "text/html": [
              "\n",
              "  <div id=\"df-4d4ec55f-4b6b-4fbd-b3a5-f9f594bfb06e\">\n",
              "    <div class=\"colab-df-container\">\n",
              "      <div>\n",
              "<style scoped>\n",
              "    .dataframe tbody tr th:only-of-type {\n",
              "        vertical-align: middle;\n",
              "    }\n",
              "\n",
              "    .dataframe tbody tr th {\n",
              "        vertical-align: top;\n",
              "    }\n",
              "\n",
              "    .dataframe thead th {\n",
              "        text-align: right;\n",
              "    }\n",
              "</style>\n",
              "<table border=\"1\" class=\"dataframe\">\n",
              "  <thead>\n",
              "    <tr style=\"text-align: right;\">\n",
              "      <th></th>\n",
              "      <th>Percentage of null values</th>\n",
              "    </tr>\n",
              "  </thead>\n",
              "  <tbody>\n",
              "    <tr>\n",
              "      <th>Parameter 1</th>\n",
              "      <td>0.0</td>\n",
              "    </tr>\n",
              "    <tr>\n",
              "      <th>Parameter 2</th>\n",
              "      <td>0.0</td>\n",
              "    </tr>\n",
              "    <tr>\n",
              "      <th>Parameter 3</th>\n",
              "      <td>0.0</td>\n",
              "    </tr>\n",
              "    <tr>\n",
              "      <th>Parameter 4</th>\n",
              "      <td>0.0</td>\n",
              "    </tr>\n",
              "    <tr>\n",
              "      <th>Parameter 5</th>\n",
              "      <td>0.0</td>\n",
              "    </tr>\n",
              "    <tr>\n",
              "      <th>Parameter 6</th>\n",
              "      <td>0.0</td>\n",
              "    </tr>\n",
              "    <tr>\n",
              "      <th>Parameter 7</th>\n",
              "      <td>0.0</td>\n",
              "    </tr>\n",
              "    <tr>\n",
              "      <th>Parameter 8</th>\n",
              "      <td>0.0</td>\n",
              "    </tr>\n",
              "    <tr>\n",
              "      <th>Parameter 9</th>\n",
              "      <td>0.0</td>\n",
              "    </tr>\n",
              "    <tr>\n",
              "      <th>Parameter 10</th>\n",
              "      <td>0.0</td>\n",
              "    </tr>\n",
              "    <tr>\n",
              "      <th>Parameter 11</th>\n",
              "      <td>0.0</td>\n",
              "    </tr>\n",
              "    <tr>\n",
              "      <th>Signal_Strength</th>\n",
              "      <td>0.0</td>\n",
              "    </tr>\n",
              "  </tbody>\n",
              "</table>\n",
              "</div>\n",
              "      <button class=\"colab-df-convert\" onclick=\"convertToInteractive('df-4d4ec55f-4b6b-4fbd-b3a5-f9f594bfb06e')\"\n",
              "              title=\"Convert this dataframe to an interactive table.\"\n",
              "              style=\"display:none;\">\n",
              "        \n",
              "  <svg xmlns=\"http://www.w3.org/2000/svg\" height=\"24px\"viewBox=\"0 0 24 24\"\n",
              "       width=\"24px\">\n",
              "    <path d=\"M0 0h24v24H0V0z\" fill=\"none\"/>\n",
              "    <path d=\"M18.56 5.44l.94 2.06.94-2.06 2.06-.94-2.06-.94-.94-2.06-.94 2.06-2.06.94zm-11 1L8.5 8.5l.94-2.06 2.06-.94-2.06-.94L8.5 2.5l-.94 2.06-2.06.94zm10 10l.94 2.06.94-2.06 2.06-.94-2.06-.94-.94-2.06-.94 2.06-2.06.94z\"/><path d=\"M17.41 7.96l-1.37-1.37c-.4-.4-.92-.59-1.43-.59-.52 0-1.04.2-1.43.59L10.3 9.45l-7.72 7.72c-.78.78-.78 2.05 0 2.83L4 21.41c.39.39.9.59 1.41.59.51 0 1.02-.2 1.41-.59l7.78-7.78 2.81-2.81c.8-.78.8-2.07 0-2.86zM5.41 20L4 18.59l7.72-7.72 1.47 1.35L5.41 20z\"/>\n",
              "  </svg>\n",
              "      </button>\n",
              "      \n",
              "  <style>\n",
              "    .colab-df-container {\n",
              "      display:flex;\n",
              "      flex-wrap:wrap;\n",
              "      gap: 12px;\n",
              "    }\n",
              "\n",
              "    .colab-df-convert {\n",
              "      background-color: #E8F0FE;\n",
              "      border: none;\n",
              "      border-radius: 50%;\n",
              "      cursor: pointer;\n",
              "      display: none;\n",
              "      fill: #1967D2;\n",
              "      height: 32px;\n",
              "      padding: 0 0 0 0;\n",
              "      width: 32px;\n",
              "    }\n",
              "\n",
              "    .colab-df-convert:hover {\n",
              "      background-color: #E2EBFA;\n",
              "      box-shadow: 0px 1px 2px rgba(60, 64, 67, 0.3), 0px 1px 3px 1px rgba(60, 64, 67, 0.15);\n",
              "      fill: #174EA6;\n",
              "    }\n",
              "\n",
              "    [theme=dark] .colab-df-convert {\n",
              "      background-color: #3B4455;\n",
              "      fill: #D2E3FC;\n",
              "    }\n",
              "\n",
              "    [theme=dark] .colab-df-convert:hover {\n",
              "      background-color: #434B5C;\n",
              "      box-shadow: 0px 1px 3px 1px rgba(0, 0, 0, 0.15);\n",
              "      filter: drop-shadow(0px 1px 2px rgba(0, 0, 0, 0.3));\n",
              "      fill: #FFFFFF;\n",
              "    }\n",
              "  </style>\n",
              "\n",
              "      <script>\n",
              "        const buttonEl =\n",
              "          document.querySelector('#df-4d4ec55f-4b6b-4fbd-b3a5-f9f594bfb06e button.colab-df-convert');\n",
              "        buttonEl.style.display =\n",
              "          google.colab.kernel.accessAllowed ? 'block' : 'none';\n",
              "\n",
              "        async function convertToInteractive(key) {\n",
              "          const element = document.querySelector('#df-4d4ec55f-4b6b-4fbd-b3a5-f9f594bfb06e');\n",
              "          const dataTable =\n",
              "            await google.colab.kernel.invokeFunction('convertToInteractive',\n",
              "                                                     [key], {});\n",
              "          if (!dataTable) return;\n",
              "\n",
              "          const docLinkHtml = 'Like what you see? Visit the ' +\n",
              "            '<a target=\"_blank\" href=https://colab.research.google.com/notebooks/data_table.ipynb>data table notebook</a>'\n",
              "            + ' to learn more about interactive tables.';\n",
              "          element.innerHTML = '';\n",
              "          dataTable['output_type'] = 'display_data';\n",
              "          await google.colab.output.renderOutput(dataTable, element);\n",
              "          const docLink = document.createElement('div');\n",
              "          docLink.innerHTML = docLinkHtml;\n",
              "          element.appendChild(docLink);\n",
              "        }\n",
              "      </script>\n",
              "    </div>\n",
              "  </div>\n",
              "  "
            ]
          },
          "metadata": {},
          "execution_count": 62
        }
      ]
    },
    {
      "cell_type": "markdown",
      "source": [
        "Data Analysis :-"
      ],
      "metadata": {
        "id": "OoYFbfKrOQRs"
      }
    },
    {
      "cell_type": "code",
      "source": [
        "signals.describe().transpose()"
      ],
      "metadata": {
        "colab": {
          "base_uri": "https://localhost:8080/",
          "height": 426
        },
        "id": "QarhZzZCNPSe",
        "outputId": "7709b0b2-5d14-4d22-aecb-661490a7ab9d"
      },
      "execution_count": 63,
      "outputs": [
        {
          "output_type": "execute_result",
          "data": {
            "text/plain": [
              "                  count       mean        std      min      25%       50%  \\\n",
              "Parameter 1      1599.0   8.319637   1.741096  4.60000   7.1000   7.90000   \n",
              "Parameter 2      1599.0   0.527821   0.179060  0.12000   0.3900   0.52000   \n",
              "Parameter 3      1599.0   0.270976   0.194801  0.00000   0.0900   0.26000   \n",
              "Parameter 4      1599.0   2.538806   1.409928  0.90000   1.9000   2.20000   \n",
              "Parameter 5      1599.0   0.087467   0.047065  0.01200   0.0700   0.07900   \n",
              "Parameter 6      1599.0  15.874922  10.460157  1.00000   7.0000  14.00000   \n",
              "Parameter 7      1599.0  46.467792  32.895324  6.00000  22.0000  38.00000   \n",
              "Parameter 8      1599.0   0.996747   0.001887  0.99007   0.9956   0.99675   \n",
              "Parameter 9      1599.0   3.311113   0.154386  2.74000   3.2100   3.31000   \n",
              "Parameter 10     1599.0   0.658149   0.169507  0.33000   0.5500   0.62000   \n",
              "Parameter 11     1599.0  10.422983   1.065668  8.40000   9.5000  10.20000   \n",
              "Signal_Strength  1599.0   5.636023   0.807569  3.00000   5.0000   6.00000   \n",
              "\n",
              "                       75%        max  \n",
              "Parameter 1       9.200000   15.90000  \n",
              "Parameter 2       0.640000    1.58000  \n",
              "Parameter 3       0.420000    1.00000  \n",
              "Parameter 4       2.600000   15.50000  \n",
              "Parameter 5       0.090000    0.61100  \n",
              "Parameter 6      21.000000   72.00000  \n",
              "Parameter 7      62.000000  289.00000  \n",
              "Parameter 8       0.997835    1.00369  \n",
              "Parameter 9       3.400000    4.01000  \n",
              "Parameter 10      0.730000    2.00000  \n",
              "Parameter 11     11.100000   14.90000  \n",
              "Signal_Strength   6.000000    8.00000  "
            ],
            "text/html": [
              "\n",
              "  <div id=\"df-84c4c21d-bfa3-45b8-8dfe-6aa0d9efd007\">\n",
              "    <div class=\"colab-df-container\">\n",
              "      <div>\n",
              "<style scoped>\n",
              "    .dataframe tbody tr th:only-of-type {\n",
              "        vertical-align: middle;\n",
              "    }\n",
              "\n",
              "    .dataframe tbody tr th {\n",
              "        vertical-align: top;\n",
              "    }\n",
              "\n",
              "    .dataframe thead th {\n",
              "        text-align: right;\n",
              "    }\n",
              "</style>\n",
              "<table border=\"1\" class=\"dataframe\">\n",
              "  <thead>\n",
              "    <tr style=\"text-align: right;\">\n",
              "      <th></th>\n",
              "      <th>count</th>\n",
              "      <th>mean</th>\n",
              "      <th>std</th>\n",
              "      <th>min</th>\n",
              "      <th>25%</th>\n",
              "      <th>50%</th>\n",
              "      <th>75%</th>\n",
              "      <th>max</th>\n",
              "    </tr>\n",
              "  </thead>\n",
              "  <tbody>\n",
              "    <tr>\n",
              "      <th>Parameter 1</th>\n",
              "      <td>1599.0</td>\n",
              "      <td>8.319637</td>\n",
              "      <td>1.741096</td>\n",
              "      <td>4.60000</td>\n",
              "      <td>7.1000</td>\n",
              "      <td>7.90000</td>\n",
              "      <td>9.200000</td>\n",
              "      <td>15.90000</td>\n",
              "    </tr>\n",
              "    <tr>\n",
              "      <th>Parameter 2</th>\n",
              "      <td>1599.0</td>\n",
              "      <td>0.527821</td>\n",
              "      <td>0.179060</td>\n",
              "      <td>0.12000</td>\n",
              "      <td>0.3900</td>\n",
              "      <td>0.52000</td>\n",
              "      <td>0.640000</td>\n",
              "      <td>1.58000</td>\n",
              "    </tr>\n",
              "    <tr>\n",
              "      <th>Parameter 3</th>\n",
              "      <td>1599.0</td>\n",
              "      <td>0.270976</td>\n",
              "      <td>0.194801</td>\n",
              "      <td>0.00000</td>\n",
              "      <td>0.0900</td>\n",
              "      <td>0.26000</td>\n",
              "      <td>0.420000</td>\n",
              "      <td>1.00000</td>\n",
              "    </tr>\n",
              "    <tr>\n",
              "      <th>Parameter 4</th>\n",
              "      <td>1599.0</td>\n",
              "      <td>2.538806</td>\n",
              "      <td>1.409928</td>\n",
              "      <td>0.90000</td>\n",
              "      <td>1.9000</td>\n",
              "      <td>2.20000</td>\n",
              "      <td>2.600000</td>\n",
              "      <td>15.50000</td>\n",
              "    </tr>\n",
              "    <tr>\n",
              "      <th>Parameter 5</th>\n",
              "      <td>1599.0</td>\n",
              "      <td>0.087467</td>\n",
              "      <td>0.047065</td>\n",
              "      <td>0.01200</td>\n",
              "      <td>0.0700</td>\n",
              "      <td>0.07900</td>\n",
              "      <td>0.090000</td>\n",
              "      <td>0.61100</td>\n",
              "    </tr>\n",
              "    <tr>\n",
              "      <th>Parameter 6</th>\n",
              "      <td>1599.0</td>\n",
              "      <td>15.874922</td>\n",
              "      <td>10.460157</td>\n",
              "      <td>1.00000</td>\n",
              "      <td>7.0000</td>\n",
              "      <td>14.00000</td>\n",
              "      <td>21.000000</td>\n",
              "      <td>72.00000</td>\n",
              "    </tr>\n",
              "    <tr>\n",
              "      <th>Parameter 7</th>\n",
              "      <td>1599.0</td>\n",
              "      <td>46.467792</td>\n",
              "      <td>32.895324</td>\n",
              "      <td>6.00000</td>\n",
              "      <td>22.0000</td>\n",
              "      <td>38.00000</td>\n",
              "      <td>62.000000</td>\n",
              "      <td>289.00000</td>\n",
              "    </tr>\n",
              "    <tr>\n",
              "      <th>Parameter 8</th>\n",
              "      <td>1599.0</td>\n",
              "      <td>0.996747</td>\n",
              "      <td>0.001887</td>\n",
              "      <td>0.99007</td>\n",
              "      <td>0.9956</td>\n",
              "      <td>0.99675</td>\n",
              "      <td>0.997835</td>\n",
              "      <td>1.00369</td>\n",
              "    </tr>\n",
              "    <tr>\n",
              "      <th>Parameter 9</th>\n",
              "      <td>1599.0</td>\n",
              "      <td>3.311113</td>\n",
              "      <td>0.154386</td>\n",
              "      <td>2.74000</td>\n",
              "      <td>3.2100</td>\n",
              "      <td>3.31000</td>\n",
              "      <td>3.400000</td>\n",
              "      <td>4.01000</td>\n",
              "    </tr>\n",
              "    <tr>\n",
              "      <th>Parameter 10</th>\n",
              "      <td>1599.0</td>\n",
              "      <td>0.658149</td>\n",
              "      <td>0.169507</td>\n",
              "      <td>0.33000</td>\n",
              "      <td>0.5500</td>\n",
              "      <td>0.62000</td>\n",
              "      <td>0.730000</td>\n",
              "      <td>2.00000</td>\n",
              "    </tr>\n",
              "    <tr>\n",
              "      <th>Parameter 11</th>\n",
              "      <td>1599.0</td>\n",
              "      <td>10.422983</td>\n",
              "      <td>1.065668</td>\n",
              "      <td>8.40000</td>\n",
              "      <td>9.5000</td>\n",
              "      <td>10.20000</td>\n",
              "      <td>11.100000</td>\n",
              "      <td>14.90000</td>\n",
              "    </tr>\n",
              "    <tr>\n",
              "      <th>Signal_Strength</th>\n",
              "      <td>1599.0</td>\n",
              "      <td>5.636023</td>\n",
              "      <td>0.807569</td>\n",
              "      <td>3.00000</td>\n",
              "      <td>5.0000</td>\n",
              "      <td>6.00000</td>\n",
              "      <td>6.000000</td>\n",
              "      <td>8.00000</td>\n",
              "    </tr>\n",
              "  </tbody>\n",
              "</table>\n",
              "</div>\n",
              "      <button class=\"colab-df-convert\" onclick=\"convertToInteractive('df-84c4c21d-bfa3-45b8-8dfe-6aa0d9efd007')\"\n",
              "              title=\"Convert this dataframe to an interactive table.\"\n",
              "              style=\"display:none;\">\n",
              "        \n",
              "  <svg xmlns=\"http://www.w3.org/2000/svg\" height=\"24px\"viewBox=\"0 0 24 24\"\n",
              "       width=\"24px\">\n",
              "    <path d=\"M0 0h24v24H0V0z\" fill=\"none\"/>\n",
              "    <path d=\"M18.56 5.44l.94 2.06.94-2.06 2.06-.94-2.06-.94-.94-2.06-.94 2.06-2.06.94zm-11 1L8.5 8.5l.94-2.06 2.06-.94-2.06-.94L8.5 2.5l-.94 2.06-2.06.94zm10 10l.94 2.06.94-2.06 2.06-.94-2.06-.94-.94-2.06-.94 2.06-2.06.94z\"/><path d=\"M17.41 7.96l-1.37-1.37c-.4-.4-.92-.59-1.43-.59-.52 0-1.04.2-1.43.59L10.3 9.45l-7.72 7.72c-.78.78-.78 2.05 0 2.83L4 21.41c.39.39.9.59 1.41.59.51 0 1.02-.2 1.41-.59l7.78-7.78 2.81-2.81c.8-.78.8-2.07 0-2.86zM5.41 20L4 18.59l7.72-7.72 1.47 1.35L5.41 20z\"/>\n",
              "  </svg>\n",
              "      </button>\n",
              "      \n",
              "  <style>\n",
              "    .colab-df-container {\n",
              "      display:flex;\n",
              "      flex-wrap:wrap;\n",
              "      gap: 12px;\n",
              "    }\n",
              "\n",
              "    .colab-df-convert {\n",
              "      background-color: #E8F0FE;\n",
              "      border: none;\n",
              "      border-radius: 50%;\n",
              "      cursor: pointer;\n",
              "      display: none;\n",
              "      fill: #1967D2;\n",
              "      height: 32px;\n",
              "      padding: 0 0 0 0;\n",
              "      width: 32px;\n",
              "    }\n",
              "\n",
              "    .colab-df-convert:hover {\n",
              "      background-color: #E2EBFA;\n",
              "      box-shadow: 0px 1px 2px rgba(60, 64, 67, 0.3), 0px 1px 3px 1px rgba(60, 64, 67, 0.15);\n",
              "      fill: #174EA6;\n",
              "    }\n",
              "\n",
              "    [theme=dark] .colab-df-convert {\n",
              "      background-color: #3B4455;\n",
              "      fill: #D2E3FC;\n",
              "    }\n",
              "\n",
              "    [theme=dark] .colab-df-convert:hover {\n",
              "      background-color: #434B5C;\n",
              "      box-shadow: 0px 1px 3px 1px rgba(0, 0, 0, 0.15);\n",
              "      filter: drop-shadow(0px 1px 2px rgba(0, 0, 0, 0.3));\n",
              "      fill: #FFFFFF;\n",
              "    }\n",
              "  </style>\n",
              "\n",
              "      <script>\n",
              "        const buttonEl =\n",
              "          document.querySelector('#df-84c4c21d-bfa3-45b8-8dfe-6aa0d9efd007 button.colab-df-convert');\n",
              "        buttonEl.style.display =\n",
              "          google.colab.kernel.accessAllowed ? 'block' : 'none';\n",
              "\n",
              "        async function convertToInteractive(key) {\n",
              "          const element = document.querySelector('#df-84c4c21d-bfa3-45b8-8dfe-6aa0d9efd007');\n",
              "          const dataTable =\n",
              "            await google.colab.kernel.invokeFunction('convertToInteractive',\n",
              "                                                     [key], {});\n",
              "          if (!dataTable) return;\n",
              "\n",
              "          const docLinkHtml = 'Like what you see? Visit the ' +\n",
              "            '<a target=\"_blank\" href=https://colab.research.google.com/notebooks/data_table.ipynb>data table notebook</a>'\n",
              "            + ' to learn more about interactive tables.';\n",
              "          element.innerHTML = '';\n",
              "          dataTable['output_type'] = 'display_data';\n",
              "          await google.colab.output.renderOutput(dataTable, element);\n",
              "          const docLink = document.createElement('div');\n",
              "          docLink.innerHTML = docLinkHtml;\n",
              "          element.appendChild(docLink);\n",
              "        }\n",
              "      </script>\n",
              "    </div>\n",
              "  </div>\n",
              "  "
            ]
          },
          "metadata": {},
          "execution_count": 63
        }
      ]
    },
    {
      "cell_type": "code",
      "source": [
        "# Q1 C"
      ],
      "metadata": {
        "id": "zfuS4bLdNPW4"
      },
      "execution_count": 64,
      "outputs": []
    },
    {
      "cell_type": "code",
      "source": [
        "signals.duplicated().sum()"
      ],
      "metadata": {
        "colab": {
          "base_uri": "https://localhost:8080/"
        },
        "id": "YmSgcXwINPZf",
        "outputId": "39b18dce-2737-455c-c87b-9a64277a599d"
      },
      "execution_count": 65,
      "outputs": [
        {
          "output_type": "execute_result",
          "data": {
            "text/plain": [
              "240"
            ]
          },
          "metadata": {},
          "execution_count": 65
        }
      ]
    },
    {
      "cell_type": "code",
      "source": [
        "signal = signals.drop_duplicates()\n",
        "signal"
      ],
      "metadata": {
        "colab": {
          "base_uri": "https://localhost:8080/",
          "height": 424
        },
        "id": "kEhQO_QTNPeY",
        "outputId": "dc355989-fadf-457a-8afc-f5b77299f9bf"
      },
      "execution_count": 66,
      "outputs": [
        {
          "output_type": "execute_result",
          "data": {
            "text/plain": [
              "      Parameter 1  Parameter 2  Parameter 3  Parameter 4  Parameter 5  \\\n",
              "0             7.4        0.700         0.00          1.9        0.076   \n",
              "1             7.8        0.880         0.00          2.6        0.098   \n",
              "2             7.8        0.760         0.04          2.3        0.092   \n",
              "3            11.2        0.280         0.56          1.9        0.075   \n",
              "5             7.4        0.660         0.00          1.8        0.075   \n",
              "...           ...          ...          ...          ...          ...   \n",
              "1593          6.8        0.620         0.08          1.9        0.068   \n",
              "1594          6.2        0.600         0.08          2.0        0.090   \n",
              "1595          5.9        0.550         0.10          2.2        0.062   \n",
              "1597          5.9        0.645         0.12          2.0        0.075   \n",
              "1598          6.0        0.310         0.47          3.6        0.067   \n",
              "\n",
              "      Parameter 6  Parameter 7  Parameter 8  Parameter 9  Parameter 10  \\\n",
              "0            11.0         34.0      0.99780         3.51          0.56   \n",
              "1            25.0         67.0      0.99680         3.20          0.68   \n",
              "2            15.0         54.0      0.99700         3.26          0.65   \n",
              "3            17.0         60.0      0.99800         3.16          0.58   \n",
              "5            13.0         40.0      0.99780         3.51          0.56   \n",
              "...           ...          ...          ...          ...           ...   \n",
              "1593         28.0         38.0      0.99651         3.42          0.82   \n",
              "1594         32.0         44.0      0.99490         3.45          0.58   \n",
              "1595         39.0         51.0      0.99512         3.52          0.76   \n",
              "1597         32.0         44.0      0.99547         3.57          0.71   \n",
              "1598         18.0         42.0      0.99549         3.39          0.66   \n",
              "\n",
              "      Parameter 11  Signal_Strength  \n",
              "0              9.4                5  \n",
              "1              9.8                5  \n",
              "2              9.8                5  \n",
              "3              9.8                6  \n",
              "5              9.4                5  \n",
              "...            ...              ...  \n",
              "1593           9.5                6  \n",
              "1594          10.5                5  \n",
              "1595          11.2                6  \n",
              "1597          10.2                5  \n",
              "1598          11.0                6  \n",
              "\n",
              "[1359 rows x 12 columns]"
            ],
            "text/html": [
              "\n",
              "  <div id=\"df-93f443cd-b1c9-45c6-a6bd-c6100adf34a1\">\n",
              "    <div class=\"colab-df-container\">\n",
              "      <div>\n",
              "<style scoped>\n",
              "    .dataframe tbody tr th:only-of-type {\n",
              "        vertical-align: middle;\n",
              "    }\n",
              "\n",
              "    .dataframe tbody tr th {\n",
              "        vertical-align: top;\n",
              "    }\n",
              "\n",
              "    .dataframe thead th {\n",
              "        text-align: right;\n",
              "    }\n",
              "</style>\n",
              "<table border=\"1\" class=\"dataframe\">\n",
              "  <thead>\n",
              "    <tr style=\"text-align: right;\">\n",
              "      <th></th>\n",
              "      <th>Parameter 1</th>\n",
              "      <th>Parameter 2</th>\n",
              "      <th>Parameter 3</th>\n",
              "      <th>Parameter 4</th>\n",
              "      <th>Parameter 5</th>\n",
              "      <th>Parameter 6</th>\n",
              "      <th>Parameter 7</th>\n",
              "      <th>Parameter 8</th>\n",
              "      <th>Parameter 9</th>\n",
              "      <th>Parameter 10</th>\n",
              "      <th>Parameter 11</th>\n",
              "      <th>Signal_Strength</th>\n",
              "    </tr>\n",
              "  </thead>\n",
              "  <tbody>\n",
              "    <tr>\n",
              "      <th>0</th>\n",
              "      <td>7.4</td>\n",
              "      <td>0.700</td>\n",
              "      <td>0.00</td>\n",
              "      <td>1.9</td>\n",
              "      <td>0.076</td>\n",
              "      <td>11.0</td>\n",
              "      <td>34.0</td>\n",
              "      <td>0.99780</td>\n",
              "      <td>3.51</td>\n",
              "      <td>0.56</td>\n",
              "      <td>9.4</td>\n",
              "      <td>5</td>\n",
              "    </tr>\n",
              "    <tr>\n",
              "      <th>1</th>\n",
              "      <td>7.8</td>\n",
              "      <td>0.880</td>\n",
              "      <td>0.00</td>\n",
              "      <td>2.6</td>\n",
              "      <td>0.098</td>\n",
              "      <td>25.0</td>\n",
              "      <td>67.0</td>\n",
              "      <td>0.99680</td>\n",
              "      <td>3.20</td>\n",
              "      <td>0.68</td>\n",
              "      <td>9.8</td>\n",
              "      <td>5</td>\n",
              "    </tr>\n",
              "    <tr>\n",
              "      <th>2</th>\n",
              "      <td>7.8</td>\n",
              "      <td>0.760</td>\n",
              "      <td>0.04</td>\n",
              "      <td>2.3</td>\n",
              "      <td>0.092</td>\n",
              "      <td>15.0</td>\n",
              "      <td>54.0</td>\n",
              "      <td>0.99700</td>\n",
              "      <td>3.26</td>\n",
              "      <td>0.65</td>\n",
              "      <td>9.8</td>\n",
              "      <td>5</td>\n",
              "    </tr>\n",
              "    <tr>\n",
              "      <th>3</th>\n",
              "      <td>11.2</td>\n",
              "      <td>0.280</td>\n",
              "      <td>0.56</td>\n",
              "      <td>1.9</td>\n",
              "      <td>0.075</td>\n",
              "      <td>17.0</td>\n",
              "      <td>60.0</td>\n",
              "      <td>0.99800</td>\n",
              "      <td>3.16</td>\n",
              "      <td>0.58</td>\n",
              "      <td>9.8</td>\n",
              "      <td>6</td>\n",
              "    </tr>\n",
              "    <tr>\n",
              "      <th>5</th>\n",
              "      <td>7.4</td>\n",
              "      <td>0.660</td>\n",
              "      <td>0.00</td>\n",
              "      <td>1.8</td>\n",
              "      <td>0.075</td>\n",
              "      <td>13.0</td>\n",
              "      <td>40.0</td>\n",
              "      <td>0.99780</td>\n",
              "      <td>3.51</td>\n",
              "      <td>0.56</td>\n",
              "      <td>9.4</td>\n",
              "      <td>5</td>\n",
              "    </tr>\n",
              "    <tr>\n",
              "      <th>...</th>\n",
              "      <td>...</td>\n",
              "      <td>...</td>\n",
              "      <td>...</td>\n",
              "      <td>...</td>\n",
              "      <td>...</td>\n",
              "      <td>...</td>\n",
              "      <td>...</td>\n",
              "      <td>...</td>\n",
              "      <td>...</td>\n",
              "      <td>...</td>\n",
              "      <td>...</td>\n",
              "      <td>...</td>\n",
              "    </tr>\n",
              "    <tr>\n",
              "      <th>1593</th>\n",
              "      <td>6.8</td>\n",
              "      <td>0.620</td>\n",
              "      <td>0.08</td>\n",
              "      <td>1.9</td>\n",
              "      <td>0.068</td>\n",
              "      <td>28.0</td>\n",
              "      <td>38.0</td>\n",
              "      <td>0.99651</td>\n",
              "      <td>3.42</td>\n",
              "      <td>0.82</td>\n",
              "      <td>9.5</td>\n",
              "      <td>6</td>\n",
              "    </tr>\n",
              "    <tr>\n",
              "      <th>1594</th>\n",
              "      <td>6.2</td>\n",
              "      <td>0.600</td>\n",
              "      <td>0.08</td>\n",
              "      <td>2.0</td>\n",
              "      <td>0.090</td>\n",
              "      <td>32.0</td>\n",
              "      <td>44.0</td>\n",
              "      <td>0.99490</td>\n",
              "      <td>3.45</td>\n",
              "      <td>0.58</td>\n",
              "      <td>10.5</td>\n",
              "      <td>5</td>\n",
              "    </tr>\n",
              "    <tr>\n",
              "      <th>1595</th>\n",
              "      <td>5.9</td>\n",
              "      <td>0.550</td>\n",
              "      <td>0.10</td>\n",
              "      <td>2.2</td>\n",
              "      <td>0.062</td>\n",
              "      <td>39.0</td>\n",
              "      <td>51.0</td>\n",
              "      <td>0.99512</td>\n",
              "      <td>3.52</td>\n",
              "      <td>0.76</td>\n",
              "      <td>11.2</td>\n",
              "      <td>6</td>\n",
              "    </tr>\n",
              "    <tr>\n",
              "      <th>1597</th>\n",
              "      <td>5.9</td>\n",
              "      <td>0.645</td>\n",
              "      <td>0.12</td>\n",
              "      <td>2.0</td>\n",
              "      <td>0.075</td>\n",
              "      <td>32.0</td>\n",
              "      <td>44.0</td>\n",
              "      <td>0.99547</td>\n",
              "      <td>3.57</td>\n",
              "      <td>0.71</td>\n",
              "      <td>10.2</td>\n",
              "      <td>5</td>\n",
              "    </tr>\n",
              "    <tr>\n",
              "      <th>1598</th>\n",
              "      <td>6.0</td>\n",
              "      <td>0.310</td>\n",
              "      <td>0.47</td>\n",
              "      <td>3.6</td>\n",
              "      <td>0.067</td>\n",
              "      <td>18.0</td>\n",
              "      <td>42.0</td>\n",
              "      <td>0.99549</td>\n",
              "      <td>3.39</td>\n",
              "      <td>0.66</td>\n",
              "      <td>11.0</td>\n",
              "      <td>6</td>\n",
              "    </tr>\n",
              "  </tbody>\n",
              "</table>\n",
              "<p>1359 rows × 12 columns</p>\n",
              "</div>\n",
              "      <button class=\"colab-df-convert\" onclick=\"convertToInteractive('df-93f443cd-b1c9-45c6-a6bd-c6100adf34a1')\"\n",
              "              title=\"Convert this dataframe to an interactive table.\"\n",
              "              style=\"display:none;\">\n",
              "        \n",
              "  <svg xmlns=\"http://www.w3.org/2000/svg\" height=\"24px\"viewBox=\"0 0 24 24\"\n",
              "       width=\"24px\">\n",
              "    <path d=\"M0 0h24v24H0V0z\" fill=\"none\"/>\n",
              "    <path d=\"M18.56 5.44l.94 2.06.94-2.06 2.06-.94-2.06-.94-.94-2.06-.94 2.06-2.06.94zm-11 1L8.5 8.5l.94-2.06 2.06-.94-2.06-.94L8.5 2.5l-.94 2.06-2.06.94zm10 10l.94 2.06.94-2.06 2.06-.94-2.06-.94-.94-2.06-.94 2.06-2.06.94z\"/><path d=\"M17.41 7.96l-1.37-1.37c-.4-.4-.92-.59-1.43-.59-.52 0-1.04.2-1.43.59L10.3 9.45l-7.72 7.72c-.78.78-.78 2.05 0 2.83L4 21.41c.39.39.9.59 1.41.59.51 0 1.02-.2 1.41-.59l7.78-7.78 2.81-2.81c.8-.78.8-2.07 0-2.86zM5.41 20L4 18.59l7.72-7.72 1.47 1.35L5.41 20z\"/>\n",
              "  </svg>\n",
              "      </button>\n",
              "      \n",
              "  <style>\n",
              "    .colab-df-container {\n",
              "      display:flex;\n",
              "      flex-wrap:wrap;\n",
              "      gap: 12px;\n",
              "    }\n",
              "\n",
              "    .colab-df-convert {\n",
              "      background-color: #E8F0FE;\n",
              "      border: none;\n",
              "      border-radius: 50%;\n",
              "      cursor: pointer;\n",
              "      display: none;\n",
              "      fill: #1967D2;\n",
              "      height: 32px;\n",
              "      padding: 0 0 0 0;\n",
              "      width: 32px;\n",
              "    }\n",
              "\n",
              "    .colab-df-convert:hover {\n",
              "      background-color: #E2EBFA;\n",
              "      box-shadow: 0px 1px 2px rgba(60, 64, 67, 0.3), 0px 1px 3px 1px rgba(60, 64, 67, 0.15);\n",
              "      fill: #174EA6;\n",
              "    }\n",
              "\n",
              "    [theme=dark] .colab-df-convert {\n",
              "      background-color: #3B4455;\n",
              "      fill: #D2E3FC;\n",
              "    }\n",
              "\n",
              "    [theme=dark] .colab-df-convert:hover {\n",
              "      background-color: #434B5C;\n",
              "      box-shadow: 0px 1px 3px 1px rgba(0, 0, 0, 0.15);\n",
              "      filter: drop-shadow(0px 1px 2px rgba(0, 0, 0, 0.3));\n",
              "      fill: #FFFFFF;\n",
              "    }\n",
              "  </style>\n",
              "\n",
              "      <script>\n",
              "        const buttonEl =\n",
              "          document.querySelector('#df-93f443cd-b1c9-45c6-a6bd-c6100adf34a1 button.colab-df-convert');\n",
              "        buttonEl.style.display =\n",
              "          google.colab.kernel.accessAllowed ? 'block' : 'none';\n",
              "\n",
              "        async function convertToInteractive(key) {\n",
              "          const element = document.querySelector('#df-93f443cd-b1c9-45c6-a6bd-c6100adf34a1');\n",
              "          const dataTable =\n",
              "            await google.colab.kernel.invokeFunction('convertToInteractive',\n",
              "                                                     [key], {});\n",
              "          if (!dataTable) return;\n",
              "\n",
              "          const docLinkHtml = 'Like what you see? Visit the ' +\n",
              "            '<a target=\"_blank\" href=https://colab.research.google.com/notebooks/data_table.ipynb>data table notebook</a>'\n",
              "            + ' to learn more about interactive tables.';\n",
              "          element.innerHTML = '';\n",
              "          dataTable['output_type'] = 'display_data';\n",
              "          await google.colab.output.renderOutput(dataTable, element);\n",
              "          const docLink = document.createElement('div');\n",
              "          docLink.innerHTML = docLinkHtml;\n",
              "          element.appendChild(docLink);\n",
              "        }\n",
              "      </script>\n",
              "    </div>\n",
              "  </div>\n",
              "  "
            ]
          },
          "metadata": {},
          "execution_count": 66
        }
      ]
    },
    {
      "cell_type": "code",
      "source": [
        "print(signal.Signal_Strength.value_counts())"
      ],
      "metadata": {
        "colab": {
          "base_uri": "https://localhost:8080/"
        },
        "id": "ZxqvxQJtNPhO",
        "outputId": "c02d16b0-ed47-4825-b6ed-db7581bdcc0f"
      },
      "execution_count": 67,
      "outputs": [
        {
          "output_type": "stream",
          "name": "stdout",
          "text": [
            "5    577\n",
            "6    535\n",
            "7    167\n",
            "4     53\n",
            "8     17\n",
            "3     10\n",
            "Name: Signal_Strength, dtype: int64\n"
          ]
        }
      ]
    },
    {
      "cell_type": "code",
      "source": [
        "# Q1 D"
      ],
      "metadata": {
        "id": "kCybHaQCNPl6"
      },
      "execution_count": 68,
      "outputs": []
    },
    {
      "cell_type": "code",
      "source": [
        "sns.histplot(data = signal, x = 'Signal_Strength');"
      ],
      "metadata": {
        "colab": {
          "base_uri": "https://localhost:8080/",
          "height": 451
        },
        "id": "AE6Ar-5BNPoK",
        "outputId": "d17c0115-bbd9-4435-d337-e781eb82b29e"
      },
      "execution_count": 69,
      "outputs": [
        {
          "output_type": "display_data",
          "data": {
            "text/plain": [
              "<Figure size 640x480 with 1 Axes>"
            ],
            "image/png": "[encoded data removed]"
          },
          "metadata": {}
        }
      ]
    },
    {
      "cell_type": "code",
      "source": [
        "# Q1 E"
      ],
      "metadata": {
        "id": "A6KVUcmENPsl"
      },
      "execution_count": 70,
      "outputs": []
    },
    {
      "cell_type": "markdown",
      "source": [
        "Insights :-\n",
        "\n",
        "- There were no null (or) missing vlaues in the given dataset\n",
        "\n",
        "- Number of duplicate values = 240\n",
        "\n",
        "- Parameter 7 has maximum mean and standard deviation\n",
        "\n",
        "    With regard to Signal_Strength:-\n",
        "\n",
        "    . It has 6 unique values (3, 4, 5, 6, 7, 8) in which 5 has high frequency and 3 has least frequency\n",
        "\n",
        "    . Frequency of signal_strength :- 5>6>7>4>8>3.\n",
        "\n"
      ],
      "metadata": {
        "id": "-WQiu0MdPTrB"
      }
    },
    {
      "cell_type": "code",
      "source": [
        "# Q2 A"
      ],
      "metadata": {
        "id": "92glIowMNPuj"
      },
      "execution_count": 71,
      "outputs": []
    },
    {
      "cell_type": "code",
      "source": [
        "X = signal.drop('Signal_Strength', axis = 1)\n",
        "Y = signal['Signal_Strength']"
      ],
      "metadata": {
        "id": "Ryv-s5d2NPye"
      },
      "execution_count": 72,
      "outputs": []
    },
    {
      "cell_type": "code",
      "source": [
        "# Q2 B "
      ],
      "metadata": {
        "id": "aCdp9wSTNP0a"
      },
      "execution_count": 73,
      "outputs": []
    },
    {
      "cell_type": "code",
      "source": [
        "X_train, X_test, Y_train, Y_test = train_test_split(X, Y, test_size = 0.3, random_state = 22)"
      ],
      "metadata": {
        "id": "wJKvkVsFNP42"
      },
      "execution_count": 74,
      "outputs": []
    },
    {
      "cell_type": "code",
      "source": [
        "# Q2 C (Shape of variables)"
      ],
      "metadata": {
        "id": "5X6BCo0jNP6e"
      },
      "execution_count": 75,
      "outputs": []
    },
    {
      "cell_type": "code",
      "source": [
        "print(X_train.shape)\n",
        "print(X_test.shape)\n",
        "print(Y_train.shape)\n",
        "print(Y_test.shape)"
      ],
      "metadata": {
        "colab": {
          "base_uri": "https://localhost:8080/"
        },
        "id": "-ix0ff2kNP-G",
        "outputId": "883456f4-6a8b-4253-b74f-d4be8638f83f"
      },
      "execution_count": 76,
      "outputs": [
        {
          "output_type": "stream",
          "name": "stdout",
          "text": [
            "(951, 11)\n",
            "(408, 11)\n",
            "(951,)\n",
            "(408,)\n"
          ]
        }
      ]
    },
    {
      "cell_type": "code",
      "source": [
        "# Q2 D (Normalisation)"
      ],
      "metadata": {
        "id": "qNx1xkm4NQBB"
      },
      "execution_count": 77,
      "outputs": []
    },
    {
      "cell_type": "code",
      "source": [
        "x_train = StandardScaler().fit_transform(X_train)\n",
        "x_test = StandardScaler().fit_transform(X_test)"
      ],
      "metadata": {
        "id": "2fBSYlHQP2zx"
      },
      "execution_count": 78,
      "outputs": []
    },
    {
      "cell_type": "code",
      "source": [
        "# Q2 E (Encoding)"
      ],
      "metadata": {
        "id": "hwD3CZ89P22n"
      },
      "execution_count": 79,
      "outputs": []
    },
    {
      "cell_type": "code",
      "source": [
        "y_train = to_categorical(Y_train)\n",
        "y_test = to_categorical(Y_test)"
      ],
      "metadata": {
        "id": "ImbeDAvkP2-n"
      },
      "execution_count": 80,
      "outputs": []
    },
    {
      "cell_type": "code",
      "source": [
        "print(y_train.shape)\n",
        "print(y_test.shape)"
      ],
      "metadata": {
        "colab": {
          "base_uri": "https://localhost:8080/"
        },
        "id": "1APLqCtoP3Ac",
        "outputId": "ee4f9ff0-eaf8-451d-aae4-f5e2448e8ec1"
      },
      "execution_count": 81,
      "outputs": [
        {
          "output_type": "stream",
          "name": "stdout",
          "text": [
            "(951, 9)\n",
            "(408, 9)\n"
          ]
        }
      ]
    },
    {
      "cell_type": "code",
      "source": [
        "print(\"First 5 training labels as one-hot encoded vectors :\\n\", y_train[:5])"
      ],
      "metadata": {
        "colab": {
          "base_uri": "https://localhost:8080/"
        },
        "id": "siauhU2tP3Eg",
        "outputId": "bfc79673-e085-456e-d713-c247836df9e3"
      },
      "execution_count": 82,
      "outputs": [
        {
          "output_type": "stream",
          "name": "stdout",
          "text": [
            "First 5 training labels as one-hot encoded vectors :\n",
            " [[0. 0. 0. 0. 1. 0. 0. 0. 0.]\n",
            " [0. 0. 0. 0. 0. 0. 0. 0. 1.]\n",
            " [0. 0. 0. 0. 0. 1. 0. 0. 0.]\n",
            " [0. 0. 0. 0. 0. 0. 1. 0. 0.]\n",
            " [0. 0. 0. 0. 0. 0. 1. 0. 0.]]\n"
          ]
        }
      ]
    },
    {
      "cell_type": "code",
      "source": [
        "num_classes = 9"
      ],
      "metadata": {
        "id": "uZdx9_npP3Fz"
      },
      "execution_count": 83,
      "outputs": []
    },
    {
      "cell_type": "code",
      "source": [
        "# Q3 A"
      ],
      "metadata": {
        "id": "RGfiw3g0P3JS"
      },
      "execution_count": 84,
      "outputs": []
    },
    {
      "cell_type": "code",
      "source": [
        "model = Sequential()  \n",
        "model.add(Dense(256, activation='relu',kernel_initializer='he_uniform')) \n",
        "model.add(Dense(64, activation='relu',kernel_initializer='he_uniform'))\n",
        "model.add(Dense(64, activation='relu',kernel_initializer='he_uniform'))\n",
        "model.add(Dense(32, activation='relu',kernel_initializer='he_uniform'))\n",
        "model.add(Dense(num_classes, activation='softmax'))"
      ],
      "metadata": {
        "id": "xBje3AZfP3K6"
      },
      "execution_count": 85,
      "outputs": []
    },
    {
      "cell_type": "code",
      "source": [
        "adam = optimizers.Adam(learning_rate =1e-3)\n",
        "model.compile(loss=losses.categorical_crossentropy, optimizer=adam, metrics=['accuracy'])"
      ],
      "metadata": {
        "id": "SV9ASaU3P3Od"
      },
      "execution_count": 86,
      "outputs": []
    },
    {
      "cell_type": "code",
      "source": [
        "checkpoint = ModelCheckpoint(\"model_weights.h5\",monitor='val_accuracy',\n",
        "                            save_weights_only=True, mode='max',verbose=1)\n",
        "reduce_lr = ReduceLROnPlateau(monitor='val_loss',factor=0.1,patience=2,min_lr=0.00001,model='auto')\n",
        "\n",
        "callbacks = [checkpoint,reduce_lr]"
      ],
      "metadata": {
        "id": "Nb65iZ9jP3P0"
      },
      "execution_count": 87,
      "outputs": []
    },
    {
      "cell_type": "code",
      "source": [
        "# Q3 B"
      ],
      "metadata": {
        "id": "Z5euFVhzP3TM"
      },
      "execution_count": 88,
      "outputs": []
    },
    {
      "cell_type": "code",
      "source": [
        "history=model.fit(x_train, y_train, validation_split=0.2, epochs=50, batch_size=128, verbose=2,callbacks=callbacks)"
      ],
      "metadata": {
        "colab": {
          "base_uri": "https://localhost:8080/"
        },
        "id": "KIodoNHxP3U6",
        "outputId": "1a2cea84-ac71-4f0d-bd67-1cf2f8e5d166"
      },
      "execution_count": 89,
      "outputs": [
        {
          "output_type": "stream",
          "name": "stdout",
          "text": [
            "Epoch 1/50\n",
            "\n",
            "Epoch 1: saving model to model_weights.h5\n",
            "6/6 - 2s - loss: 2.3716 - accuracy: 0.1829 - val_loss: 1.9818 - val_accuracy: 0.3298 - lr: 0.0010 - 2s/epoch - 255ms/step\n",
            "Epoch 2/50\n",
            "\n",
            "Epoch 2: saving model to model_weights.h5\n",
            "6/6 - 0s - loss: 1.8269 - accuracy: 0.4092 - val_loss: 1.6573 - val_accuracy: 0.4084 - lr: 0.0010 - 76ms/epoch - 13ms/step\n",
            "Epoch 3/50\n",
            "\n",
            "Epoch 3: saving model to model_weights.h5\n",
            "6/6 - 0s - loss: 1.5136 - accuracy: 0.5039 - val_loss: 1.3585 - val_accuracy: 0.5236 - lr: 0.0010 - 73ms/epoch - 12ms/step\n",
            "Epoch 4/50\n",
            "\n",
            "Epoch 4: saving model to model_weights.h5\n",
            "6/6 - 0s - loss: 1.3026 - accuracy: 0.5711 - val_loss: 1.2123 - val_accuracy: 0.5445 - lr: 0.0010 - 85ms/epoch - 14ms/step\n",
            "Epoch 5/50\n",
            "\n",
            "Epoch 5: saving model to model_weights.h5\n",
            "6/6 - 0s - loss: 1.1673 - accuracy: 0.5947 - val_loss: 1.1314 - val_accuracy: 0.5445 - lr: 0.0010 - 73ms/epoch - 12ms/step\n",
            "Epoch 6/50\n",
            "\n",
            "Epoch 6: saving model to model_weights.h5\n",
            "6/6 - 0s - loss: 1.0853 - accuracy: 0.6039 - val_loss: 1.0940 - val_accuracy: 0.5707 - lr: 0.0010 - 75ms/epoch - 13ms/step\n",
            "Epoch 7/50\n",
            "\n",
            "Epoch 7: saving model to model_weights.h5\n",
            "6/6 - 0s - loss: 1.0329 - accuracy: 0.6342 - val_loss: 1.0583 - val_accuracy: 0.5812 - lr: 0.0010 - 73ms/epoch - 12ms/step\n",
            "Epoch 8/50\n",
            "\n",
            "Epoch 8: saving model to model_weights.h5\n",
            "6/6 - 0s - loss: 0.9852 - accuracy: 0.6579 - val_loss: 1.0191 - val_accuracy: 0.5759 - lr: 0.0010 - 96ms/epoch - 16ms/step\n",
            "Epoch 9/50\n",
            "\n",
            "Epoch 9: saving model to model_weights.h5\n",
            "6/6 - 0s - loss: 0.9610 - accuracy: 0.6461 - val_loss: 1.0031 - val_accuracy: 0.5812 - lr: 0.0010 - 94ms/epoch - 16ms/step\n",
            "Epoch 10/50\n",
            "\n",
            "Epoch 10: saving model to model_weights.h5\n",
            "6/6 - 0s - loss: 0.9282 - accuracy: 0.6579 - val_loss: 0.9941 - val_accuracy: 0.5916 - lr: 0.0010 - 89ms/epoch - 15ms/step\n",
            "Epoch 11/50\n",
            "\n",
            "Epoch 11: saving model to model_weights.h5\n",
            "6/6 - 0s - loss: 0.9024 - accuracy: 0.6737 - val_loss: 0.9811 - val_accuracy: 0.5969 - lr: 0.0010 - 86ms/epoch - 14ms/step\n",
            "Epoch 12/50\n",
            "\n",
            "Epoch 12: saving model to model_weights.h5\n",
            "6/6 - 0s - loss: 0.8756 - accuracy: 0.6855 - val_loss: 0.9757 - val_accuracy: 0.6073 - lr: 0.0010 - 85ms/epoch - 14ms/step\n",
            "Epoch 13/50\n",
            "\n",
            "Epoch 13: saving model to model_weights.h5\n",
            "6/6 - 0s - loss: 0.8511 - accuracy: 0.6908 - val_loss: 0.9712 - val_accuracy: 0.5916 - lr: 0.0010 - 70ms/epoch - 12ms/step\n",
            "Epoch 14/50\n",
            "\n",
            "Epoch 14: saving model to model_weights.h5\n",
            "6/6 - 0s - loss: 0.8274 - accuracy: 0.7000 - val_loss: 0.9679 - val_accuracy: 0.5916 - lr: 0.0010 - 70ms/epoch - 12ms/step\n",
            "Epoch 15/50\n",
            "\n",
            "Epoch 15: saving model to model_weights.h5\n",
            "6/6 - 0s - loss: 0.8080 - accuracy: 0.7105 - val_loss: 0.9745 - val_accuracy: 0.5864 - lr: 0.0010 - 83ms/epoch - 14ms/step\n",
            "Epoch 16/50\n",
            "\n",
            "Epoch 16: saving model to model_weights.h5\n",
            "6/6 - 0s - loss: 0.7885 - accuracy: 0.7039 - val_loss: 0.9625 - val_accuracy: 0.6073 - lr: 0.0010 - 72ms/epoch - 12ms/step\n",
            "Epoch 17/50\n",
            "\n",
            "Epoch 17: saving model to model_weights.h5\n",
            "6/6 - 0s - loss: 0.7732 - accuracy: 0.7263 - val_loss: 0.9745 - val_accuracy: 0.6021 - lr: 0.0010 - 67ms/epoch - 11ms/step\n",
            "Epoch 18/50\n",
            "\n",
            "Epoch 18: saving model to model_weights.h5\n",
            "6/6 - 0s - loss: 0.7533 - accuracy: 0.7224 - val_loss: 0.9761 - val_accuracy: 0.6126 - lr: 0.0010 - 84ms/epoch - 14ms/step\n",
            "Epoch 19/50\n",
            "\n",
            "Epoch 19: saving model to model_weights.h5\n",
            "6/6 - 0s - loss: 0.7286 - accuracy: 0.7329 - val_loss: 0.9749 - val_accuracy: 0.6126 - lr: 1.0000e-04 - 77ms/epoch - 13ms/step\n",
            "Epoch 20/50\n",
            "\n",
            "Epoch 20: saving model to model_weights.h5\n",
            "6/6 - 0s - loss: 0.7240 - accuracy: 0.7342 - val_loss: 0.9752 - val_accuracy: 0.6126 - lr: 1.0000e-04 - 101ms/epoch - 17ms/step\n",
            "Epoch 21/50\n",
            "\n",
            "Epoch 21: saving model to model_weights.h5\n",
            "6/6 - 0s - loss: 0.7202 - accuracy: 0.7368 - val_loss: 0.9754 - val_accuracy: 0.6073 - lr: 1.0000e-05 - 90ms/epoch - 15ms/step\n",
            "Epoch 22/50\n",
            "\n",
            "Epoch 22: saving model to model_weights.h5\n",
            "6/6 - 0s - loss: 0.7199 - accuracy: 0.7329 - val_loss: 0.9753 - val_accuracy: 0.6073 - lr: 1.0000e-05 - 93ms/epoch - 16ms/step\n",
            "Epoch 23/50\n",
            "\n",
            "Epoch 23: saving model to model_weights.h5\n",
            "6/6 - 0s - loss: 0.7196 - accuracy: 0.7329 - val_loss: 0.9753 - val_accuracy: 0.6126 - lr: 1.0000e-05 - 71ms/epoch - 12ms/step\n",
            "Epoch 24/50\n",
            "\n",
            "Epoch 24: saving model to model_weights.h5\n",
            "6/6 - 0s - loss: 0.7193 - accuracy: 0.7329 - val_loss: 0.9754 - val_accuracy: 0.6126 - lr: 1.0000e-05 - 69ms/epoch - 12ms/step\n",
            "Epoch 25/50\n",
            "\n",
            "Epoch 25: saving model to model_weights.h5\n",
            "6/6 - 0s - loss: 0.7189 - accuracy: 0.7342 - val_loss: 0.9754 - val_accuracy: 0.6126 - lr: 1.0000e-05 - 71ms/epoch - 12ms/step\n",
            "Epoch 26/50\n",
            "\n",
            "Epoch 26: saving model to model_weights.h5\n",
            "6/6 - 0s - loss: 0.7186 - accuracy: 0.7342 - val_loss: 0.9755 - val_accuracy: 0.6126 - lr: 1.0000e-05 - 83ms/epoch - 14ms/step\n",
            "Epoch 27/50\n",
            "\n",
            "Epoch 27: saving model to model_weights.h5\n",
            "6/6 - 0s - loss: 0.7184 - accuracy: 0.7342 - val_loss: 0.9756 - val_accuracy: 0.6126 - lr: 1.0000e-05 - 74ms/epoch - 12ms/step\n",
            "Epoch 28/50\n",
            "\n",
            "Epoch 28: saving model to model_weights.h5\n",
            "6/6 - 0s - loss: 0.7181 - accuracy: 0.7342 - val_loss: 0.9754 - val_accuracy: 0.6126 - lr: 1.0000e-05 - 69ms/epoch - 11ms/step\n",
            "Epoch 29/50\n",
            "\n",
            "Epoch 29: saving model to model_weights.h5\n",
            "6/6 - 0s - loss: 0.7178 - accuracy: 0.7342 - val_loss: 0.9754 - val_accuracy: 0.6126 - lr: 1.0000e-05 - 67ms/epoch - 11ms/step\n",
            "Epoch 30/50\n",
            "\n",
            "Epoch 30: saving model to model_weights.h5\n",
            "6/6 - 0s - loss: 0.7175 - accuracy: 0.7316 - val_loss: 0.9754 - val_accuracy: 0.6073 - lr: 1.0000e-05 - 67ms/epoch - 11ms/step\n",
            "Epoch 31/50\n",
            "\n",
            "Epoch 31: saving model to model_weights.h5\n",
            "6/6 - 0s - loss: 0.7173 - accuracy: 0.7316 - val_loss: 0.9756 - val_accuracy: 0.6073 - lr: 1.0000e-05 - 86ms/epoch - 14ms/step\n",
            "Epoch 32/50\n",
            "\n",
            "Epoch 32: saving model to model_weights.h5\n",
            "6/6 - 0s - loss: 0.7169 - accuracy: 0.7329 - val_loss: 0.9755 - val_accuracy: 0.6073 - lr: 1.0000e-05 - 92ms/epoch - 15ms/step\n",
            "Epoch 33/50\n",
            "\n",
            "Epoch 33: saving model to model_weights.h5\n",
            "6/6 - 0s - loss: 0.7167 - accuracy: 0.7329 - val_loss: 0.9754 - val_accuracy: 0.6073 - lr: 1.0000e-05 - 83ms/epoch - 14ms/step\n",
            "Epoch 34/50\n",
            "\n",
            "Epoch 34: saving model to model_weights.h5\n",
            "6/6 - 0s - loss: 0.7164 - accuracy: 0.7329 - val_loss: 0.9754 - val_accuracy: 0.6073 - lr: 1.0000e-05 - 73ms/epoch - 12ms/step\n",
            "Epoch 35/50\n",
            "\n",
            "Epoch 35: saving model to model_weights.h5\n",
            "6/6 - 0s - loss: 0.7161 - accuracy: 0.7329 - val_loss: 0.9754 - val_accuracy: 0.6073 - lr: 1.0000e-05 - 73ms/epoch - 12ms/step\n",
            "Epoch 36/50\n",
            "\n",
            "Epoch 36: saving model to model_weights.h5\n",
            "6/6 - 0s - loss: 0.7159 - accuracy: 0.7329 - val_loss: 0.9755 - val_accuracy: 0.6073 - lr: 1.0000e-05 - 69ms/epoch - 11ms/step\n",
            "Epoch 37/50\n",
            "\n",
            "Epoch 37: saving model to model_weights.h5\n",
            "6/6 - 0s - loss: 0.7156 - accuracy: 0.7329 - val_loss: 0.9753 - val_accuracy: 0.6073 - lr: 1.0000e-05 - 84ms/epoch - 14ms/step\n",
            "Epoch 38/50\n",
            "\n",
            "Epoch 38: saving model to model_weights.h5\n",
            "6/6 - 0s - loss: 0.7154 - accuracy: 0.7355 - val_loss: 0.9753 - val_accuracy: 0.6073 - lr: 1.0000e-05 - 81ms/epoch - 14ms/step\n",
            "Epoch 39/50\n",
            "\n",
            "Epoch 39: saving model to model_weights.h5\n",
            "6/6 - 0s - loss: 0.7151 - accuracy: 0.7355 - val_loss: 0.9753 - val_accuracy: 0.6126 - lr: 1.0000e-05 - 86ms/epoch - 14ms/step\n",
            "Epoch 40/50\n",
            "\n",
            "Epoch 40: saving model to model_weights.h5\n",
            "6/6 - 0s - loss: 0.7149 - accuracy: 0.7342 - val_loss: 0.9753 - val_accuracy: 0.6126 - lr: 1.0000e-05 - 73ms/epoch - 12ms/step\n",
            "Epoch 41/50\n",
            "\n",
            "Epoch 41: saving model to model_weights.h5\n",
            "6/6 - 0s - loss: 0.7146 - accuracy: 0.7342 - val_loss: 0.9753 - val_accuracy: 0.6126 - lr: 1.0000e-05 - 79ms/epoch - 13ms/step\n",
            "Epoch 42/50\n",
            "\n",
            "Epoch 42: saving model to model_weights.h5\n",
            "6/6 - 0s - loss: 0.7143 - accuracy: 0.7355 - val_loss: 0.9753 - val_accuracy: 0.6126 - lr: 1.0000e-05 - 86ms/epoch - 14ms/step\n",
            "Epoch 43/50\n",
            "\n",
            "Epoch 43: saving model to model_weights.h5\n",
            "6/6 - 0s - loss: 0.7141 - accuracy: 0.7368 - val_loss: 0.9753 - val_accuracy: 0.6126 - lr: 1.0000e-05 - 75ms/epoch - 12ms/step\n",
            "Epoch 44/50\n",
            "\n",
            "Epoch 44: saving model to model_weights.h5\n",
            "6/6 - 0s - loss: 0.7138 - accuracy: 0.7355 - val_loss: 0.9754 - val_accuracy: 0.6126 - lr: 1.0000e-05 - 79ms/epoch - 13ms/step\n",
            "Epoch 45/50\n",
            "\n",
            "Epoch 45: saving model to model_weights.h5\n",
            "6/6 - 0s - loss: 0.7135 - accuracy: 0.7355 - val_loss: 0.9754 - val_accuracy: 0.6126 - lr: 1.0000e-05 - 76ms/epoch - 13ms/step\n",
            "Epoch 46/50\n",
            "\n",
            "Epoch 46: saving model to model_weights.h5\n",
            "6/6 - 0s - loss: 0.7133 - accuracy: 0.7355 - val_loss: 0.9754 - val_accuracy: 0.6178 - lr: 1.0000e-05 - 69ms/epoch - 12ms/step\n",
            "Epoch 47/50\n",
            "\n",
            "Epoch 47: saving model to model_weights.h5\n",
            "6/6 - 0s - loss: 0.7131 - accuracy: 0.7368 - val_loss: 0.9754 - val_accuracy: 0.6178 - lr: 1.0000e-05 - 76ms/epoch - 13ms/step\n",
            "Epoch 48/50\n",
            "\n",
            "Epoch 48: saving model to model_weights.h5\n",
            "6/6 - 0s - loss: 0.7129 - accuracy: 0.7368 - val_loss: 0.9754 - val_accuracy: 0.6178 - lr: 1.0000e-05 - 87ms/epoch - 14ms/step\n",
            "Epoch 49/50\n",
            "\n",
            "Epoch 49: saving model to model_weights.h5\n",
            "6/6 - 0s - loss: 0.7126 - accuracy: 0.7355 - val_loss: 0.9755 - val_accuracy: 0.6178 - lr: 1.0000e-05 - 67ms/epoch - 11ms/step\n",
            "Epoch 50/50\n",
            "\n",
            "Epoch 50: saving model to model_weights.h5\n",
            "6/6 - 0s - loss: 0.7123 - accuracy: 0.7355 - val_loss: 0.9755 - val_accuracy: 0.6178 - lr: 1.0000e-05 - 69ms/epoch - 11ms/step\n"
          ]
        }
      ]
    },
    {
      "cell_type": "code",
      "source": [
        "# Q3 C (Plots)"
      ],
      "metadata": {
        "id": "lwycguvvP3YU"
      },
      "execution_count": 90,
      "outputs": []
    },
    {
      "cell_type": "markdown",
      "source": [
        "i. Training Loss and Validation Loss "
      ],
      "metadata": {
        "id": "H6b6NhXJRLjc"
      }
    },
    {
      "cell_type": "code",
      "source": [
        "plt.plot(history.history['loss'], label = 'train')\n",
        "plt.plot(history.history['val_loss'], label = 'validate')\n",
        "plt.xlabel(\"epochs\")\n",
        "plt.ylabel(\"Loss\")\n",
        "plt.legend()\n",
        "plt.show()"
      ],
      "metadata": {
        "colab": {
          "base_uri": "https://localhost:8080/",
          "height": 449
        },
        "id": "VU5FYjzOREd7",
        "outputId": "959ccf0b-c5ae-4a84-f335-cc7096e56c67"
      },
      "execution_count": null,
      "outputs": [
        {
          "output_type": "display_data",
          "data": {
            "text/plain": [
              "<Figure size 640x480 with 1 Axes>"
            ],
            "image/png": "[encoded data removed]"
          },
          "metadata": {}
        }
      ]
    },
    {
      "cell_type": "markdown",
      "source": [
        "ii. Training Accuracy and Validation Accuracy"
      ],
      "metadata": {
        "id": "9jt5TTjtRa_3"
      }
    },
    {
      "cell_type": "code",
      "source": [
        "plt.plot(history.history['accuracy'])\n",
        "plt.plot(history.history['val_accuracy'])\n",
        "plt.title('model accuracy')\n",
        "plt.ylabel('accuracy')\n",
        "plt.xlabel('epoch')\n",
        "plt.legend(['training', 'validation'], loc='best')\n",
        "plt.show()"
      ],
      "metadata": {
        "colab": {
          "base_uri": "https://localhost:8080/",
          "height": 472
        },
        "id": "CqdtTx1-REgt",
        "outputId": "73d1b619-cfa5-4d2d-a9d1-903063be0e72"
      },
      "execution_count": null,
      "outputs": [
        {
          "output_type": "display_data",
          "data": {
            "text/plain": [
              "<Figure size 640x480 with 1 Axes>"
            ],
            "image/png": "[encoded data removed]"
          },
          "metadata": {}
        }
      ]
    },
    {
      "cell_type": "code",
      "source": [
        "# Q3 D (Designing new architecture)"
      ],
      "metadata": {
        "id": "eEfyLEw7REkN"
      },
      "execution_count": null,
      "outputs": []
    },
    {
      "cell_type": "markdown",
      "source": [
        "Adding Dropout and batchnormalization to improve performance :-"
      ],
      "metadata": {
        "id": "LO0Gw2AHRrv3"
      }
    },
    {
      "cell_type": "code",
      "source": [
        "model_1 = Sequential()  \n",
        "model_1.add(Dense(256, activation='relu',kernel_initializer='he_uniform'))\n",
        "model_1.add(Dense(64, activation='relu',kernel_initializer='he_uniform'))\n",
        "model_1.add(Dense(64, activation='relu',kernel_initializer='he_uniform'))\n",
        "model_1.add(Dense(32, activation='relu',kernel_initializer='he_uniform'))\n",
        "model_1.add(Dropout(0.5))\n",
        "model_1.add(BatchNormalization())\n",
        "model_1.add(Dense(num_classes, activation='softmax'))"
      ],
      "metadata": {
        "id": "ynWjNkaaREmx"
      },
      "execution_count": 91,
      "outputs": []
    },
    {
      "cell_type": "code",
      "source": [
        "adam = optimizers.Adam(learning_rate=1e-3)\n",
        "model_1.compile(loss=losses.categorical_crossentropy, optimizer=adam, metrics=['accuracy']) "
      ],
      "metadata": {
        "id": "oTgxDCo7REpj"
      },
      "execution_count": 92,
      "outputs": []
    },
    {
      "cell_type": "code",
      "source": [
        "checkpoint = ModelCheckpoint(\"model_weights_1.h5\",monitor='val_accuracy',\n",
        "                            save_weights_only=True, model='max',verbose=1)\n",
        "reduce_lr = ReduceLROnPlateau(monitor='val_loss',factor=0.1,patience=2,min_lr=0.00001,model='auto')\n",
        "\n",
        "callbacks = [checkpoint,reduce_lr]"
      ],
      "metadata": {
        "id": "Bg2cMFDfREr2"
      },
      "execution_count": 93,
      "outputs": []
    },
    {
      "cell_type": "code",
      "source": [
        "history=model_1.fit(x_train, y_train, validation_split=0.2, epochs=50, batch_size=128, verbose=2, callbacks=callbacks)"
      ],
      "metadata": {
        "colab": {
          "base_uri": "https://localhost:8080/"
        },
        "id": "K2XSY4RmREuf",
        "outputId": "8978bd3a-bad5-40d7-fe14-18be044c1964"
      },
      "execution_count": 94,
      "outputs": [
        {
          "output_type": "stream",
          "name": "stdout",
          "text": [
            "Epoch 1/50\n",
            "\n",
            "Epoch 1: saving model to model_weights_1.h5\n",
            "6/6 - 2s - loss: 2.6407 - accuracy: 0.1118 - val_loss: 2.3350 - val_accuracy: 0.0838 - lr: 0.0010 - 2s/epoch - 297ms/step\n",
            "Epoch 2/50\n",
            "\n",
            "Epoch 2: saving model to model_weights_1.h5\n",
            "6/6 - 0s - loss: 2.4473 - accuracy: 0.1697 - val_loss: 2.1197 - val_accuracy: 0.2461 - lr: 0.0010 - 74ms/epoch - 12ms/step\n",
            "Epoch 3/50\n",
            "\n",
            "Epoch 3: saving model to model_weights_1.h5\n",
            "6/6 - 0s - loss: 2.2571 - accuracy: 0.2237 - val_loss: 1.9748 - val_accuracy: 0.3298 - lr: 0.0010 - 79ms/epoch - 13ms/step\n",
            "Epoch 4/50\n",
            "\n",
            "Epoch 4: saving model to model_weights_1.h5\n",
            "6/6 - 0s - loss: 2.1729 - accuracy: 0.2987 - val_loss: 1.8926 - val_accuracy: 0.3979 - lr: 0.0010 - 74ms/epoch - 12ms/step\n",
            "Epoch 5/50\n",
            "\n",
            "Epoch 5: saving model to model_weights_1.h5\n",
            "6/6 - 0s - loss: 2.0354 - accuracy: 0.3684 - val_loss: 1.8261 - val_accuracy: 0.4346 - lr: 0.0010 - 77ms/epoch - 13ms/step\n",
            "Epoch 6/50\n",
            "\n",
            "Epoch 6: saving model to model_weights_1.h5\n",
            "6/6 - 0s - loss: 1.9504 - accuracy: 0.3803 - val_loss: 1.7847 - val_accuracy: 0.4921 - lr: 0.0010 - 93ms/epoch - 15ms/step\n",
            "Epoch 7/50\n",
            "\n",
            "Epoch 7: saving model to model_weights_1.h5\n",
            "6/6 - 0s - loss: 1.9494 - accuracy: 0.4013 - val_loss: 1.7354 - val_accuracy: 0.4974 - lr: 0.0010 - 91ms/epoch - 15ms/step\n",
            "Epoch 8/50\n",
            "\n",
            "Epoch 8: saving model to model_weights_1.h5\n",
            "6/6 - 0s - loss: 1.8615 - accuracy: 0.4421 - val_loss: 1.7381 - val_accuracy: 0.4974 - lr: 0.0010 - 90ms/epoch - 15ms/step\n",
            "Epoch 9/50\n",
            "\n",
            "Epoch 9: saving model to model_weights_1.h5\n",
            "6/6 - 0s - loss: 1.7887 - accuracy: 0.4803 - val_loss: 1.7245 - val_accuracy: 0.4921 - lr: 0.0010 - 100ms/epoch - 17ms/step\n",
            "Epoch 10/50\n",
            "\n",
            "Epoch 10: saving model to model_weights_1.h5\n",
            "6/6 - 0s - loss: 1.6771 - accuracy: 0.5224 - val_loss: 1.7131 - val_accuracy: 0.4921 - lr: 0.0010 - 86ms/epoch - 14ms/step\n",
            "Epoch 11/50\n",
            "\n",
            "Epoch 11: saving model to model_weights_1.h5\n",
            "6/6 - 0s - loss: 1.6688 - accuracy: 0.5145 - val_loss: 1.6766 - val_accuracy: 0.5079 - lr: 0.0010 - 81ms/epoch - 13ms/step\n",
            "Epoch 12/50\n",
            "\n",
            "Epoch 12: saving model to model_weights_1.h5\n",
            "6/6 - 0s - loss: 1.6570 - accuracy: 0.5711 - val_loss: 1.6591 - val_accuracy: 0.5079 - lr: 0.0010 - 95ms/epoch - 16ms/step\n",
            "Epoch 13/50\n",
            "\n",
            "Epoch 13: saving model to model_weights_1.h5\n",
            "6/6 - 0s - loss: 1.6365 - accuracy: 0.5447 - val_loss: 1.6571 - val_accuracy: 0.5026 - lr: 0.0010 - 88ms/epoch - 15ms/step\n",
            "Epoch 14/50\n",
            "\n",
            "Epoch 14: saving model to model_weights_1.h5\n",
            "6/6 - 0s - loss: 1.5490 - accuracy: 0.5737 - val_loss: 1.6451 - val_accuracy: 0.5183 - lr: 0.0010 - 93ms/epoch - 16ms/step\n",
            "Epoch 15/50\n",
            "\n",
            "Epoch 15: saving model to model_weights_1.h5\n",
            "6/6 - 0s - loss: 1.5047 - accuracy: 0.5842 - val_loss: 1.6450 - val_accuracy: 0.5079 - lr: 0.0010 - 76ms/epoch - 13ms/step\n",
            "Epoch 16/50\n",
            "\n",
            "Epoch 16: saving model to model_weights_1.h5\n",
            "6/6 - 0s - loss: 1.4411 - accuracy: 0.6053 - val_loss: 1.6272 - val_accuracy: 0.5079 - lr: 0.0010 - 77ms/epoch - 13ms/step\n",
            "Epoch 17/50\n",
            "\n",
            "Epoch 17: saving model to model_weights_1.h5\n",
            "6/6 - 0s - loss: 1.4220 - accuracy: 0.5974 - val_loss: 1.5479 - val_accuracy: 0.5026 - lr: 0.0010 - 82ms/epoch - 14ms/step\n",
            "Epoch 18/50\n",
            "\n",
            "Epoch 18: saving model to model_weights_1.h5\n",
            "6/6 - 0s - loss: 1.4040 - accuracy: 0.6197 - val_loss: 1.5052 - val_accuracy: 0.5288 - lr: 0.0010 - 77ms/epoch - 13ms/step\n",
            "Epoch 19/50\n",
            "\n",
            "Epoch 19: saving model to model_weights_1.h5\n",
            "6/6 - 0s - loss: 1.3306 - accuracy: 0.6329 - val_loss: 1.4871 - val_accuracy: 0.5602 - lr: 0.0010 - 90ms/epoch - 15ms/step\n",
            "Epoch 20/50\n",
            "\n",
            "Epoch 20: saving model to model_weights_1.h5\n",
            "6/6 - 0s - loss: 1.3366 - accuracy: 0.6289 - val_loss: 1.4305 - val_accuracy: 0.5654 - lr: 0.0010 - 92ms/epoch - 15ms/step\n",
            "Epoch 21/50\n",
            "\n",
            "Epoch 21: saving model to model_weights_1.h5\n",
            "6/6 - 0s - loss: 1.2810 - accuracy: 0.6408 - val_loss: 1.4069 - val_accuracy: 0.5654 - lr: 0.0010 - 87ms/epoch - 14ms/step\n",
            "Epoch 22/50\n",
            "\n",
            "Epoch 22: saving model to model_weights_1.h5\n",
            "6/6 - 0s - loss: 1.2285 - accuracy: 0.6447 - val_loss: 1.3950 - val_accuracy: 0.5812 - lr: 0.0010 - 74ms/epoch - 12ms/step\n",
            "Epoch 23/50\n",
            "\n",
            "Epoch 23: saving model to model_weights_1.h5\n",
            "6/6 - 0s - loss: 1.1783 - accuracy: 0.6526 - val_loss: 1.3799 - val_accuracy: 0.5916 - lr: 0.0010 - 91ms/epoch - 15ms/step\n",
            "Epoch 24/50\n",
            "\n",
            "Epoch 24: saving model to model_weights_1.h5\n",
            "6/6 - 0s - loss: 1.1839 - accuracy: 0.6618 - val_loss: 1.3666 - val_accuracy: 0.5864 - lr: 0.0010 - 102ms/epoch - 17ms/step\n",
            "Epoch 25/50\n",
            "\n",
            "Epoch 25: saving model to model_weights_1.h5\n",
            "6/6 - 0s - loss: 1.1400 - accuracy: 0.6566 - val_loss: 1.3197 - val_accuracy: 0.5916 - lr: 0.0010 - 80ms/epoch - 13ms/step\n",
            "Epoch 26/50\n",
            "\n",
            "Epoch 26: saving model to model_weights_1.h5\n",
            "6/6 - 0s - loss: 1.0922 - accuracy: 0.6658 - val_loss: 1.2684 - val_accuracy: 0.6021 - lr: 0.0010 - 78ms/epoch - 13ms/step\n",
            "Epoch 27/50\n",
            "\n",
            "Epoch 27: saving model to model_weights_1.h5\n",
            "6/6 - 0s - loss: 1.0309 - accuracy: 0.7026 - val_loss: 1.2687 - val_accuracy: 0.6021 - lr: 0.0010 - 90ms/epoch - 15ms/step\n",
            "Epoch 28/50\n",
            "\n",
            "Epoch 28: saving model to model_weights_1.h5\n",
            "6/6 - 0s - loss: 1.0334 - accuracy: 0.6974 - val_loss: 1.2627 - val_accuracy: 0.5969 - lr: 0.0010 - 86ms/epoch - 14ms/step\n",
            "Epoch 29/50\n",
            "\n",
            "Epoch 29: saving model to model_weights_1.h5\n",
            "6/6 - 0s - loss: 1.0025 - accuracy: 0.6868 - val_loss: 1.2303 - val_accuracy: 0.6178 - lr: 0.0010 - 78ms/epoch - 13ms/step\n",
            "Epoch 30/50\n",
            "\n",
            "Epoch 30: saving model to model_weights_1.h5\n",
            "6/6 - 0s - loss: 0.9819 - accuracy: 0.7000 - val_loss: 1.2114 - val_accuracy: 0.5864 - lr: 0.0010 - 91ms/epoch - 15ms/step\n",
            "Epoch 31/50\n",
            "\n",
            "Epoch 31: saving model to model_weights_1.h5\n",
            "6/6 - 0s - loss: 0.9307 - accuracy: 0.7250 - val_loss: 1.1894 - val_accuracy: 0.6021 - lr: 0.0010 - 80ms/epoch - 13ms/step\n",
            "Epoch 32/50\n",
            "\n",
            "Epoch 32: saving model to model_weights_1.h5\n",
            "6/6 - 0s - loss: 0.9144 - accuracy: 0.7013 - val_loss: 1.1655 - val_accuracy: 0.5864 - lr: 0.0010 - 86ms/epoch - 14ms/step\n",
            "Epoch 33/50\n",
            "\n",
            "Epoch 33: saving model to model_weights_1.h5\n",
            "6/6 - 0s - loss: 0.9027 - accuracy: 0.7132 - val_loss: 1.1705 - val_accuracy: 0.6073 - lr: 0.0010 - 77ms/epoch - 13ms/step\n",
            "Epoch 34/50\n",
            "\n",
            "Epoch 34: saving model to model_weights_1.h5\n",
            "6/6 - 0s - loss: 0.8807 - accuracy: 0.7184 - val_loss: 1.1649 - val_accuracy: 0.5812 - lr: 0.0010 - 97ms/epoch - 16ms/step\n",
            "Epoch 35/50\n",
            "\n",
            "Epoch 35: saving model to model_weights_1.h5\n",
            "6/6 - 0s - loss: 0.8639 - accuracy: 0.7263 - val_loss: 1.1555 - val_accuracy: 0.6073 - lr: 0.0010 - 100ms/epoch - 17ms/step\n",
            "Epoch 36/50\n",
            "\n",
            "Epoch 36: saving model to model_weights_1.h5\n",
            "6/6 - 0s - loss: 0.8189 - accuracy: 0.7303 - val_loss: 1.1408 - val_accuracy: 0.6073 - lr: 0.0010 - 101ms/epoch - 17ms/step\n",
            "Epoch 37/50\n",
            "\n",
            "Epoch 37: saving model to model_weights_1.h5\n",
            "6/6 - 0s - loss: 0.8422 - accuracy: 0.7408 - val_loss: 1.1469 - val_accuracy: 0.5864 - lr: 0.0010 - 96ms/epoch - 16ms/step\n",
            "Epoch 38/50\n",
            "\n",
            "Epoch 38: saving model to model_weights_1.h5\n",
            "6/6 - 0s - loss: 0.7954 - accuracy: 0.7368 - val_loss: 1.1328 - val_accuracy: 0.5759 - lr: 0.0010 - 87ms/epoch - 14ms/step\n",
            "Epoch 39/50\n",
            "\n",
            "Epoch 39: saving model to model_weights_1.h5\n",
            "6/6 - 0s - loss: 0.7451 - accuracy: 0.7553 - val_loss: 1.1084 - val_accuracy: 0.5969 - lr: 0.0010 - 97ms/epoch - 16ms/step\n",
            "Epoch 40/50\n",
            "\n",
            "Epoch 40: saving model to model_weights_1.h5\n",
            "6/6 - 0s - loss: 0.7400 - accuracy: 0.7526 - val_loss: 1.1025 - val_accuracy: 0.6021 - lr: 0.0010 - 78ms/epoch - 13ms/step\n",
            "Epoch 41/50\n",
            "\n",
            "Epoch 41: saving model to model_weights_1.h5\n",
            "6/6 - 0s - loss: 0.7519 - accuracy: 0.7658 - val_loss: 1.1095 - val_accuracy: 0.5812 - lr: 0.0010 - 78ms/epoch - 13ms/step\n",
            "Epoch 42/50\n",
            "\n",
            "Epoch 42: saving model to model_weights_1.h5\n",
            "6/6 - 0s - loss: 0.7158 - accuracy: 0.7579 - val_loss: 1.1214 - val_accuracy: 0.5864 - lr: 0.0010 - 93ms/epoch - 15ms/step\n",
            "Epoch 43/50\n",
            "\n",
            "Epoch 43: saving model to model_weights_1.h5\n",
            "6/6 - 0s - loss: 0.7041 - accuracy: 0.7434 - val_loss: 1.1256 - val_accuracy: 0.5916 - lr: 1.0000e-04 - 87ms/epoch - 15ms/step\n",
            "Epoch 44/50\n",
            "\n",
            "Epoch 44: saving model to model_weights_1.h5\n",
            "6/6 - 0s - loss: 0.6818 - accuracy: 0.7750 - val_loss: 1.1248 - val_accuracy: 0.5864 - lr: 1.0000e-04 - 102ms/epoch - 17ms/step\n",
            "Epoch 45/50\n",
            "\n",
            "Epoch 45: saving model to model_weights_1.h5\n",
            "6/6 - 0s - loss: 0.6497 - accuracy: 0.7868 - val_loss: 1.1290 - val_accuracy: 0.5812 - lr: 1.0000e-05 - 83ms/epoch - 14ms/step\n",
            "Epoch 46/50\n",
            "\n",
            "Epoch 46: saving model to model_weights_1.h5\n",
            "6/6 - 0s - loss: 0.6805 - accuracy: 0.7724 - val_loss: 1.1329 - val_accuracy: 0.5812 - lr: 1.0000e-05 - 90ms/epoch - 15ms/step\n",
            "Epoch 47/50\n",
            "\n",
            "Epoch 47: saving model to model_weights_1.h5\n",
            "6/6 - 0s - loss: 0.6558 - accuracy: 0.8039 - val_loss: 1.1372 - val_accuracy: 0.5864 - lr: 1.0000e-05 - 99ms/epoch - 17ms/step\n",
            "Epoch 48/50\n",
            "\n",
            "Epoch 48: saving model to model_weights_1.h5\n",
            "6/6 - 0s - loss: 0.6758 - accuracy: 0.7671 - val_loss: 1.1409 - val_accuracy: 0.5916 - lr: 1.0000e-05 - 92ms/epoch - 15ms/step\n",
            "Epoch 49/50\n",
            "\n",
            "Epoch 49: saving model to model_weights_1.h5\n",
            "6/6 - 0s - loss: 0.6785 - accuracy: 0.7763 - val_loss: 1.1453 - val_accuracy: 0.5916 - lr: 1.0000e-05 - 90ms/epoch - 15ms/step\n",
            "Epoch 50/50\n",
            "\n",
            "Epoch 50: saving model to model_weights_1.h5\n",
            "6/6 - 0s - loss: 0.6877 - accuracy: 0.7724 - val_loss: 1.1492 - val_accuracy: 0.5916 - lr: 1.0000e-05 - 90ms/epoch - 15ms/step\n"
          ]
        }
      ]
    },
    {
      "cell_type": "code",
      "source": [
        "# Q3 E"
      ],
      "metadata": {
        "id": "LKax2ClZRExp"
      },
      "execution_count": null,
      "outputs": []
    },
    {
      "cell_type": "code",
      "source": [
        "plt.plot(history.history['loss'], label = 'train')\n",
        "plt.plot(history.history['val_loss'], label = 'validate')\n",
        "plt.xlabel(\"epochs\")\n",
        "plt.ylabel(\"Loss\")\n",
        "plt.legend()\n",
        "plt.show()"
      ],
      "metadata": {
        "colab": {
          "base_uri": "https://localhost:8080/",
          "height": 449
        },
        "id": "Kl0l50GzRE_k",
        "outputId": "67f8806e-2d6b-4bc2-c347-133ce6adb8ce"
      },
      "execution_count": null,
      "outputs": [
        {
          "output_type": "display_data",
          "data": {
            "text/plain": [
              "<Figure size 640x480 with 1 Axes>"
            ],
            "image/png": "[encoded data removed]"
          },
          "metadata": {}
        }
      ]
    },
    {
      "cell_type": "code",
      "source": [
        "plt.plot(history.history['accuracy'])\n",
        "plt.plot(history.history['val_accuracy'])\n",
        "plt.title('model accuracy')\n",
        "plt.ylabel('accuracy')\n",
        "plt.xlabel('epoch')\n",
        "plt.legend(['training', 'validation'], loc='best')\n",
        "plt.show()"
      ],
      "metadata": {
        "colab": {
          "base_uri": "https://localhost:8080/",
          "height": 472
        },
        "id": "qUyXu4z5RFCc",
        "outputId": "844211d1-b749-43d7-fd65-11a3f8848155"
      },
      "execution_count": null,
      "outputs": [
        {
          "output_type": "display_data",
          "data": {
            "text/plain": [
              "<Figure size 640x480 with 1 Axes>"
            ],
            "image/png": "[encoded data removed]"
          },
          "metadata": {}
        }
      ]
    },
    {
      "cell_type": "markdown",
      "source": [
        "Insights :-\n",
        "\n",
        "-- Loss :- Initially there is sudden drop in training, validation loss and remained constant with increase in number of epochs.\n",
        "\n",
        "-- Accuracy :- Trainig and validation accuracy curves are almost similar, initially there is Sudden raise in accuracy and once it reached maximum it remains constant with more training accuracy.\n",
        "\n",
        "After doing batchnormalization and dropout :-\n",
        "\n",
        "-- Decrease in loss\n",
        "\n",
        "-- Increase in accuracy\n",
        "\n",
        "    \n",
        "\n",
        "    \n"
      ],
      "metadata": {
        "id": "Pcu62mmQSW3W"
      }
    },
    {
      "cell_type": "markdown",
      "source": [
        "# PART B"
      ],
      "metadata": {
        "id": "WCVNPY2lS8Ip"
      }
    },
    {
      "cell_type": "code",
      "source": [
        "import h5py"
      ],
      "metadata": {
        "id": "Tavynf2xMO9X"
      },
      "execution_count": 4,
      "outputs": []
    },
    {
      "cell_type": "code",
      "source": [
        "# Q1 A "
      ],
      "metadata": {
        "id": "gXvOylww1Fa7"
      },
      "execution_count": 96,
      "outputs": []
    },
    {
      "cell_type": "code",
      "source": [
        "h_file  = h5py.File('/content/gdrive/MyDrive/AIML/Autonomous_Vehicles_SVHN_single_grey1.h5', 'r')"
      ],
      "metadata": {
        "id": "U3_vxlm50Ggl"
      },
      "execution_count": 97,
      "outputs": []
    },
    {
      "cell_type": "code",
      "source": [
        "h_file"
      ],
      "metadata": {
        "colab": {
          "base_uri": "https://localhost:8080/"
        },
        "id": "_5n6GYNA0X96",
        "outputId": "5347c9ea-f30f-4eb6-df67-e40f95af16b6"
      },
      "execution_count": 98,
      "outputs": [
        {
          "output_type": "execute_result",
          "data": {
            "text/plain": [
              "<HDF5 file \"Autonomous_Vehicles_SVHN_single_grey1.h5\" (mode r)>"
            ]
          },
          "metadata": {},
          "execution_count": 98
        }
      ]
    },
    {
      "cell_type": "code",
      "source": [
        "# Q1 B"
      ],
      "metadata": {
        "id": "_Lpj0k2N1cKK"
      },
      "execution_count": 99,
      "outputs": []
    },
    {
      "cell_type": "code",
      "source": [
        "h_file.keys()"
      ],
      "metadata": {
        "colab": {
          "base_uri": "https://localhost:8080/"
        },
        "id": "iXJSbPOQ0aGE",
        "outputId": "d2ba1262-ac23-4c82-8bf3-1ab174b02b39"
      },
      "execution_count": 100,
      "outputs": [
        {
          "output_type": "execute_result",
          "data": {
            "text/plain": [
              "<KeysViewHDF5 ['X_test', 'X_train', 'X_val', 'y_test', 'y_train', 'y_val']>"
            ]
          },
          "metadata": {},
          "execution_count": 100
        }
      ]
    },
    {
      "cell_type": "code",
      "source": [
        "# Q1 C"
      ],
      "metadata": {
        "id": "bjDlRlIH0fl1"
      },
      "execution_count": 101,
      "outputs": []
    },
    {
      "cell_type": "code",
      "source": [
        "\n",
        "# Train set"
      ],
      "metadata": {
        "id": "yURruT8b8Ixm"
      },
      "execution_count": 102,
      "outputs": []
    },
    {
      "cell_type": "code",
      "source": [
        "X_train = h_file['X_train'][:]\n",
        "y_train = h_file['y_train'][:]"
      ],
      "metadata": {
        "id": "qDhbw-XQ1uXk"
      },
      "execution_count": 103,
      "outputs": []
    },
    {
      "cell_type": "code",
      "source": [
        "# Validation set"
      ],
      "metadata": {
        "id": "z162ons58Lry"
      },
      "execution_count": 104,
      "outputs": []
    },
    {
      "cell_type": "code",
      "source": [
        "X_val = h_file['X_val'][:]\n",
        "y_val = h_file['y_val'][:]"
      ],
      "metadata": {
        "id": "_4QrrSlo739g"
      },
      "execution_count": 105,
      "outputs": []
    },
    {
      "cell_type": "code",
      "source": [
        "# Test set"
      ],
      "metadata": {
        "id": "0BZbDuIH8QEX"
      },
      "execution_count": 106,
      "outputs": []
    },
    {
      "cell_type": "code",
      "source": [
        "X_test = h_file['X_test'][:]\n",
        "y_test = h_file['y_test'][:]"
      ],
      "metadata": {
        "id": "Q9C_MVM772Sh"
      },
      "execution_count": 107,
      "outputs": []
    },
    {
      "cell_type": "code",
      "source": [
        "# Q2 A"
      ],
      "metadata": {
        "id": "7sg-0P7Q5Im5"
      },
      "execution_count": 108,
      "outputs": []
    },
    {
      "cell_type": "code",
      "source": [
        "print(X_train.shape)\n",
        "print(X_test.shape)\n",
        "print(y_train.shape)\n",
        "print(y_test.shape)"
      ],
      "metadata": {
        "colab": {
          "base_uri": "https://localhost:8080/"
        },
        "id": "KHzThhrC5rLP",
        "outputId": "d0700d39-0822-400c-e1dd-680b14c99c09"
      },
      "execution_count": 109,
      "outputs": [
        {
          "output_type": "stream",
          "name": "stdout",
          "text": [
            "(42000, 32, 32)\n",
            "(18000, 32, 32)\n",
            "(42000,)\n",
            "(18000,)\n"
          ]
        }
      ]
    },
    {
      "cell_type": "code",
      "source": [
        "# Q2 B (Visualising first 10 images and its corresponding labels)"
      ],
      "metadata": {
        "id": "cqdPQZAn7Jc3"
      },
      "execution_count": 110,
      "outputs": []
    },
    {
      "cell_type": "code",
      "source": [
        "plt.figure(figsize=(12, 12))\n",
        "labels = y_train[0:10]\n",
        "for i in range(10):\n",
        "  ax = plt.subplot(1, 10, i + 1)\n",
        "  plt.imshow(X_train[i])\n",
        "  plt.axis(\"off\")\n",
        "print('Images with corresponding labels', labels)"
      ],
      "metadata": {
        "colab": {
          "base_uri": "https://localhost:8080/",
          "height": 132
        },
        "id": "_8fc1waFAoH3",
        "outputId": "815c2672-3ee2-4ef2-98ad-d90891f71bd4"
      },
      "execution_count": 111,
      "outputs": [
        {
          "output_type": "stream",
          "name": "stdout",
          "text": [
            "Images with corresponding labels [2 6 7 4 4 0 3 0 7 3]\n"
          ]
        },
        {
          "output_type": "display_data",
          "data": {
            "text/plain": [
              "<Figure size 1200x1200 with 10 Axes>"
            ],
            "image/png": "[encoded data removed]"
          },
          "metadata": {}
        }
      ]
    },
    {
      "cell_type": "code",
      "source": [
        "\n",
        "# Q2 C (Reshaping images)"
      ],
      "metadata": {
        "id": "nOvxVXY2CbQJ"
      },
      "execution_count": 112,
      "outputs": []
    },
    {
      "cell_type": "code",
      "source": [
        "image_vector_size = 32*32\n",
        "image_vector_size"
      ],
      "metadata": {
        "colab": {
          "base_uri": "https://localhost:8080/"
        },
        "id": "JctguDt-Lez7",
        "outputId": "0ec4281a-80ed-4c7f-d649-750969886454"
      },
      "execution_count": 113,
      "outputs": [
        {
          "output_type": "execute_result",
          "data": {
            "text/plain": [
              "1024"
            ]
          },
          "metadata": {},
          "execution_count": 113
        }
      ]
    },
    {
      "cell_type": "code",
      "source": [
        "# As both X_train and X_test have same last 2 dimensions we can reshape both of them to 1024"
      ],
      "metadata": {
        "id": "Pvrg0y7YKevZ"
      },
      "execution_count": 114,
      "outputs": []
    },
    {
      "cell_type": "code",
      "source": [
        "X_train = X_train.reshape(X_train.shape[0], 1024)\n",
        "X_test = X_test.reshape(X_test.shape[0], 1024)"
      ],
      "metadata": {
        "id": "DIk-YHMTHZ7b"
      },
      "execution_count": 115,
      "outputs": []
    },
    {
      "cell_type": "code",
      "source": [
        "# Q2 D(Normalising pixel values)"
      ],
      "metadata": {
        "id": "xym_ldmuGdGY"
      },
      "execution_count": 116,
      "outputs": []
    },
    {
      "cell_type": "code",
      "source": [
        "X_train = X_train/255.0\n",
        "X_test = X_test/255.0"
      ],
      "metadata": {
        "id": "LzNmJRy3K_FO"
      },
      "execution_count": 117,
      "outputs": []
    },
    {
      "cell_type": "code",
      "source": [
        "# Shape after reshaping and normalising :-"
      ],
      "metadata": {
        "id": "f1mWF2M2OZAx"
      },
      "execution_count": 118,
      "outputs": []
    },
    {
      "cell_type": "code",
      "source": [
        "print('Training set', X_train.shape, y_train.shape)\n",
        "print('Test set', X_test.shape, y_test.shape)"
      ],
      "metadata": {
        "colab": {
          "base_uri": "https://localhost:8080/"
        },
        "id": "qNube2eiOA-L",
        "outputId": "9f390c92-62da-47af-b18e-3c66f88fc9df"
      },
      "execution_count": 119,
      "outputs": [
        {
          "output_type": "stream",
          "name": "stdout",
          "text": [
            "Training set (42000, 1024) (42000,)\n",
            "Test set (18000, 1024) (18000,)\n"
          ]
        }
      ]
    },
    {
      "cell_type": "code",
      "source": [
        "# Q2 E (Transforming labels)"
      ],
      "metadata": {
        "id": "5-xznYjuOfPL"
      },
      "execution_count": 120,
      "outputs": []
    },
    {
      "cell_type": "code",
      "source": [
        "y_train = to_categorical(y_train)\n",
        "y_test = to_categorical(y_test)"
      ],
      "metadata": {
        "id": "AD_5vyjAOlxR"
      },
      "execution_count": 121,
      "outputs": []
    },
    {
      "cell_type": "code",
      "source": [
        "# Q2 F"
      ],
      "metadata": {
        "id": "LEb26QNbO_Du"
      },
      "execution_count": 122,
      "outputs": []
    },
    {
      "cell_type": "code",
      "source": [
        "print(\"First 5 training labels as one-hot encoded vectors :\\n\", y_train[:5])"
      ],
      "metadata": {
        "colab": {
          "base_uri": "https://localhost:8080/"
        },
        "id": "50eENR4gPFj9",
        "outputId": "cea3a2a1-773b-4b08-9d25-e6ef42277c2c"
      },
      "execution_count": 123,
      "outputs": [
        {
          "output_type": "stream",
          "name": "stdout",
          "text": [
            "First 5 training labels as one-hot encoded vectors :\n",
            " [[0. 0. 1. 0. 0. 0. 0. 0. 0. 0.]\n",
            " [0. 0. 0. 0. 0. 0. 1. 0. 0. 0.]\n",
            " [0. 0. 0. 0. 0. 0. 0. 1. 0. 0.]\n",
            " [0. 0. 0. 0. 1. 0. 0. 0. 0. 0.]\n",
            " [0. 0. 0. 0. 1. 0. 0. 0. 0. 0.]]\n"
          ]
        }
      ]
    },
    {
      "cell_type": "code",
      "source": [
        "num_classes = 10"
      ],
      "metadata": {
        "id": "gO6hWHYDPhvC"
      },
      "execution_count": 124,
      "outputs": []
    },
    {
      "cell_type": "code",
      "source": [
        "print('Total number of classes :', num_classes )"
      ],
      "metadata": {
        "colab": {
          "base_uri": "https://localhost:8080/"
        },
        "id": "5Nmez1_NQz03",
        "outputId": "5e72d38c-14b5-472a-f9dd-d5edd247eb52"
      },
      "execution_count": 125,
      "outputs": [
        {
          "output_type": "stream",
          "name": "stdout",
          "text": [
            "Total number of classes : 10\n"
          ]
        }
      ]
    },
    {
      "cell_type": "code",
      "source": [
        "# Q3 A (Designing a neural network classifier to train )"
      ],
      "metadata": {
        "id": "TC8UTuDdQ-5Y"
      },
      "execution_count": 126,
      "outputs": []
    },
    {
      "cell_type": "code",
      "source": [
        "model = Sequential()  \n",
        "model.add(Dense(256, activation='relu',kernel_initializer='he_uniform')) \n",
        "model.add(Dense(64, activation='relu',kernel_initializer='he_uniform'))\n",
        "model.add(Dense(64, activation='relu',kernel_initializer='he_uniform'))\n",
        "model.add(Dense(32, activation='relu',kernel_initializer='he_uniform'))\n",
        "model.add(Dropout(0.5))\n",
        "model.add(BatchNormalization())\n",
        "model.add(Dense(num_classes, activation='softmax'))"
      ],
      "metadata": {
        "id": "yI3YP9_yaD1c"
      },
      "execution_count": 127,
      "outputs": []
    },
    {
      "cell_type": "code",
      "source": [
        "adam = optimizers.Adam(learning_rate = 1e-3)\n",
        "model.compile(loss=losses.categorical_crossentropy, optimizer=adam, metrics=['accuracy'])"
      ],
      "metadata": {
        "id": "MrewodQCV2m1"
      },
      "execution_count": 128,
      "outputs": []
    },
    {
      "cell_type": "code",
      "source": [
        "checkpoint = ModelCheckpoint(\"model_weights.h5\",monitor='val_accuracy',\n",
        "                            save_weights_only=True, mode='max',verbose=1)\n",
        "reduce_lr = ReduceLROnPlateau(monitor='val_loss',factor=0.1,patience=2,min_lr=0.00001,model='auto')\n",
        "\n",
        "callbacks = [checkpoint,reduce_lr]"
      ],
      "metadata": {
        "id": "UMIZX3PXWo5w"
      },
      "execution_count": 129,
      "outputs": []
    },
    {
      "cell_type": "code",
      "source": [
        "# Q3 B"
      ],
      "metadata": {
        "id": "-sPG-WcSXNMF"
      },
      "execution_count": 130,
      "outputs": []
    },
    {
      "cell_type": "code",
      "source": [
        "history=model.fit(X_train, y_train, validation_split=0.2, epochs=10, batch_size=128, verbose=2,callbacks=callbacks)"
      ],
      "metadata": {
        "colab": {
          "base_uri": "https://localhost:8080/"
        },
        "id": "tBdsqylUW-zE",
        "outputId": "bcb58e73-b7a0-48ca-d3b0-d8ebcee8f8d0"
      },
      "execution_count": 131,
      "outputs": [
        {
          "output_type": "stream",
          "name": "stdout",
          "text": [
            "Epoch 1/10\n",
            "\n",
            "Epoch 1: saving model to model_weights.h5\n",
            "263/263 - 5s - loss: 2.4261 - accuracy: 0.1001 - val_loss: 2.3082 - val_accuracy: 0.1004 - lr: 0.0010 - 5s/epoch - 20ms/step\n",
            "Epoch 2/10\n",
            "\n",
            "Epoch 2: saving model to model_weights.h5\n",
            "263/263 - 3s - loss: 2.3264 - accuracy: 0.1020 - val_loss: 2.3071 - val_accuracy: 0.0989 - lr: 0.0010 - 3s/epoch - 10ms/step\n",
            "Epoch 3/10\n",
            "\n",
            "Epoch 3: saving model to model_weights.h5\n",
            "263/263 - 3s - loss: 2.3066 - accuracy: 0.1023 - val_loss: 2.3032 - val_accuracy: 0.0973 - lr: 0.0010 - 3s/epoch - 10ms/step\n",
            "Epoch 4/10\n",
            "\n",
            "Epoch 4: saving model to model_weights.h5\n",
            "263/263 - 3s - loss: 2.3042 - accuracy: 0.1007 - val_loss: 2.3033 - val_accuracy: 0.0982 - lr: 0.0010 - 3s/epoch - 10ms/step\n",
            "Epoch 5/10\n",
            "\n",
            "Epoch 5: saving model to model_weights.h5\n",
            "263/263 - 4s - loss: 2.3033 - accuracy: 0.0999 - val_loss: 2.3029 - val_accuracy: 0.0983 - lr: 0.0010 - 4s/epoch - 16ms/step\n",
            "Epoch 6/10\n",
            "\n",
            "Epoch 6: saving model to model_weights.h5\n",
            "263/263 - 3s - loss: 2.3025 - accuracy: 0.1035 - val_loss: 2.3033 - val_accuracy: 0.0942 - lr: 0.0010 - 3s/epoch - 10ms/step\n",
            "Epoch 7/10\n",
            "\n",
            "Epoch 7: saving model to model_weights.h5\n",
            "263/263 - 3s - loss: 2.3029 - accuracy: 0.0973 - val_loss: 2.3030 - val_accuracy: 0.0920 - lr: 0.0010 - 3s/epoch - 10ms/step\n",
            "Epoch 8/10\n",
            "\n",
            "Epoch 8: saving model to model_weights.h5\n",
            "263/263 - 3s - loss: 2.3026 - accuracy: 0.1016 - val_loss: 2.3030 - val_accuracy: 0.0990 - lr: 1.0000e-04 - 3s/epoch - 10ms/step\n",
            "Epoch 9/10\n",
            "\n",
            "Epoch 9: saving model to model_weights.h5\n",
            "263/263 - 2s - loss: 2.3025 - accuracy: 0.1044 - val_loss: 2.3030 - val_accuracy: 0.1005 - lr: 1.0000e-04 - 2s/epoch - 9ms/step\n",
            "Epoch 10/10\n",
            "\n",
            "Epoch 10: saving model to model_weights.h5\n",
            "263/263 - 4s - loss: 2.3028 - accuracy: 0.1026 - val_loss: 2.3029 - val_accuracy: 0.0995 - lr: 1.0000e-05 - 4s/epoch - 15ms/step\n"
          ]
        }
      ]
    },
    {
      "cell_type": "code",
      "source": [
        "model.summary()"
      ],
      "metadata": {
        "colab": {
          "base_uri": "https://localhost:8080/"
        },
        "id": "rJ9dSSFAbhSM",
        "outputId": "bd4db3a4-2223-4185-c1e0-1a5134db9144"
      },
      "execution_count": 132,
      "outputs": [
        {
          "output_type": "stream",
          "name": "stdout",
          "text": [
            "Model: \"sequential_3\"\n",
            "_________________________________________________________________\n",
            " Layer (type)                Output Shape              Param #   \n",
            "=================================================================\n",
            " dense_15 (Dense)            (None, 256)               262400    \n",
            "                                                                 \n",
            " dense_16 (Dense)            (None, 64)                16448     \n",
            "                                                                 \n",
            " dense_17 (Dense)            (None, 64)                4160      \n",
            "                                                                 \n",
            " dense_18 (Dense)            (None, 32)                2080      \n",
            "                                                                 \n",
            " dropout_2 (Dropout)         (None, 32)                0         \n",
            "                                                                 \n",
            " batch_normalization_2 (Batc  (None, 32)               128       \n",
            " hNormalization)                                                 \n",
            "                                                                 \n",
            " dense_19 (Dense)            (None, 10)                330       \n",
            "                                                                 \n",
            "=================================================================\n",
            "Total params: 285,546\n",
            "Trainable params: 285,482\n",
            "Non-trainable params: 64\n",
            "_________________________________________________________________\n"
          ]
        }
      ]
    },
    {
      "cell_type": "code",
      "source": [
        "# Q3 D"
      ],
      "metadata": {
        "id": "xepTEvO_eKiJ"
      },
      "execution_count": 43,
      "outputs": []
    },
    {
      "cell_type": "code",
      "source": [
        "plt.plot(history.history['loss'], label = 'train')\n",
        "plt.plot(history.history['val_loss'], label = 'validate')\n",
        "plt.xlabel(\"epochs\")\n",
        "plt.ylabel(\"Loss\")\n",
        "plt.legend()\n",
        "plt.show()"
      ],
      "metadata": {
        "colab": {
          "base_uri": "https://localhost:8080/",
          "height": 449
        },
        "id": "rPmOeUfhg9PJ",
        "outputId": "7b574295-1f35-42e6-9559-dc5ed35e5e64"
      },
      "execution_count": 44,
      "outputs": [
        {
          "output_type": "display_data",
          "data": {
            "text/plain": [
              "<Figure size 640x480 with 1 Axes>"
            ],
            "image/png": "[encoded data removed]"
          },
          "metadata": {}
        }
      ]
    },
    {
      "cell_type": "code",
      "source": [
        "plt.plot(history.history['accuracy'])\n",
        "plt.plot(history.history['val_accuracy'])\n",
        "plt.title('model accuracy')\n",
        "plt.ylabel('accuracy')\n",
        "plt.xlabel('epoch')\n",
        "plt.legend(['training', 'validation'], loc='best')\n",
        "plt.show()"
      ],
      "metadata": {
        "colab": {
          "base_uri": "https://localhost:8080/",
          "height": 472
        },
        "id": "oGNDq2K_g-xZ",
        "outputId": "17fec910-1c67-4093-97fa-da22a47ad9dd"
      },
      "execution_count": 45,
      "outputs": [
        {
          "output_type": "display_data",
          "data": {
            "text/plain": [
              "<Figure size 640x480 with 1 Axes>"
            ],
            "image/png": "[encoded data removed]"
          },
          "metadata": {}
        }
      ]
    },
    {
      "cell_type": "markdown",
      "source": [
        "# Observations :-\n",
        "\n",
        "--- For the first few epochs training loss is more, then their is a sudden drop in the training loss which then merged with the validation loss(almost a flat line).\n",
        "\n",
        "--- Accuracy curve shows more fluctuations with more validation accuracy initially than training accuracy.\n"
      ],
      "metadata": {
        "id": "hgzROpjqllHS"
      }
    },
    {
      "cell_type": "code",
      "source": [],
      "metadata": {
        "id": "M7vnn0TOVNKW"
      },
      "execution_count": null,
      "outputs": []
    }
  ]
}